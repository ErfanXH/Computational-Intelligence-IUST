{
 "cells": [
  {
   "cell_type": "code",
   "execution_count": 1,
   "metadata": {
    "id": "qJ54t9Mbx6_k"
   },
   "outputs": [],
   "source": [
    "student_id = 400522319  #@param {type:\"integer\"}\n",
    "student_name = \"Erfan Hemati\" #@param {type:\"string\"}"
   ]
  },
  {
   "cell_type": "markdown",
   "metadata": {
    "id": "QujImu056c3N"
   },
   "source": [
    "# **MLP From Scratch**"
   ]
  },
  {
   "cell_type": "code",
   "execution_count": 2,
   "metadata": {
    "id": "QzVr0u0SyKbJ"
   },
   "outputs": [],
   "source": [
    "import numpy as np"
   ]
  },
  {
   "cell_type": "markdown",
   "metadata": {
    "id": "TazdD5udyXc0"
   },
   "source": [
    "## **1.1 Activation Functions**\n",
    "\n",
    "let's implement some activation functions! Linear, Relu and Sigmoid are the functions that we'll need in this assignment. Note that you should also implement their derivatives since you'll need them later for back-propagation."
   ]
  },
  {
   "cell_type": "code",
   "execution_count": 3,
   "metadata": {
    "id": "W71yDw5PyXyn"
   },
   "outputs": [],
   "source": [
    "## We've implemented the Linear activation function for you\n",
    "\n",
    "def linear(x, deriv=False):\n",
    "\n",
    "  return x if not deriv else np.ones_like(x)\n",
    "\n",
    "def relu(x, deriv=False):\n",
    "  \"\"\"\n",
    "  Args:\n",
    "    x: A numpy array of any shape \n",
    "    deriv: True or False. determines if we want the derivative of the function or not.\n",
    "    \n",
    "  Returns:\n",
    "    relu_out: A numpy array of the same shape as x. \n",
    "      Basically relu function or its derivative applied to every element of x\n",
    "               \n",
    "  \"\"\"\n",
    "\n",
    "  ########################################\n",
    "  #     Put your implementation here     #\n",
    "  ######################################## \n",
    "  if not deriv:\n",
    "    relu_out = np.maximum(0, x)\n",
    "  \n",
    "  else:\n",
    "    relu_out = np.where(x > 0, 1, 0)\n",
    "  \n",
    "  return relu_out\n",
    "  \n",
    "def  sigmoid(x, deriv=False):\n",
    "  \"\"\"\n",
    "  Args:\n",
    "    x: A numpy array of any shape \n",
    "    deriv: True or False. determines if we want the derivative of the function or not.\n",
    "    \n",
    "  Returns:\n",
    "    sig_out: A numpy array of the same shape as x. \n",
    "      Basically sigmoid function or its derivative applied to every element of x\n",
    "               \n",
    "  \"\"\"\n",
    "\n",
    "  ########################################\n",
    "  #     Put your implementation here     #\n",
    "  ########################################\n",
    "  if not deriv:\n",
    "    sig_out = 1 / (1 + np.exp(-x))\n",
    "  \n",
    "  else:\n",
    "    sig_out = sigmoid(x) * (1 - sigmoid(x))\n",
    "  \n",
    "  return sig_out"
   ]
  },
  {
   "cell_type": "code",
   "execution_count": 4,
   "metadata": {
    "id": "CyUuUPMYz5_1"
   },
   "outputs": [],
   "source": [
    "# Test your implementation\n",
    "\n",
    "x_act, relu_out, sig_out = np.load('act_test.npy', allow_pickle=True)\n",
    "assert np.allclose( relu_out[0], relu(x_act, deriv=True), atol=1e-6, rtol=1e-5) and np.allclose(relu_out[1], relu(x_act, deriv=False), atol=1e-6, rtol=1e-5)\n",
    "assert np.allclose(sig_out[0], sigmoid(x_act, deriv=True), atol=1e-6, rtol=1e-5) and np.allclose(sig_out[1], sigmoid(x_act, deriv=False), atol=1e-6, rtol=1e-5)"
   ]
  },
  {
   "cell_type": "markdown",
   "metadata": {
    "id": "CJcci_bU7HvC"
   },
   "source": [
    "## **1.2 Forward Propagation**\n",
    "\n",
    "Now let's implement our MLP class. This class handles adding layers and doing the forward propagation. Here are the attributes of this class:\n",
    "- parameters: A list of dictionaries in the form of {'w': weight, 'b': bias} where weight and bias are weight matrix and bias vector of a layer.\n",
    "- act_funcs: A list of activation functions used in the corresponding layer.\n",
    "- activations: A list of matrices each corresponding to the output of each layer.\n",
    "- weighted_ins: A list of matrices each corresponding to the weighted input of each layer. Weighted input, as the name suggests, is layer's input multiplied by layer's weights and added to layer's bias. Which then goes into the layer's activation function to compute the layer's activations(outputs)!\n",
    "Note that we store weighted inputs and outputs of the layers because we'll need them later for implementing the back-propagation algorithm."
   ]
  },
  {
   "cell_type": "code",
   "execution_count": 5,
   "metadata": {
    "id": "DtMSXNb4z7qG"
   },
   "outputs": [],
   "source": [
    "class MLP:\n",
    "\n",
    "  def __init__(self, input_dim):\n",
    "    \"\"\"\n",
    "  Args:\n",
    "    input_dim: An integer determining the input dimension of the MLP\n",
    "               \n",
    "  \"\"\"\n",
    "\n",
    "    self.input_dim = input_dim\n",
    "    self.parameters = []\n",
    "    self.act_funcs = []\n",
    "    self.activations = []\n",
    "    self.weighted_ins = []\n",
    "\n",
    "  def add_layer(self, layer_size, act_func=linear):\n",
    "    \"\"\"\n",
    "    Add layers to the MLP using this function\n",
    "  Args:\n",
    "    layer_size: An integer determinig the number of neurons in the layer\n",
    "    act_func: A function applied to the units in the layer \n",
    "    \n",
    "               \n",
    "  \"\"\"\n",
    "    ### Size of the previous layer of mlp\n",
    "    prev_size = self.input_dim if not self.parameters else self.parameters[-1]['w'].shape[-1]\n",
    "\n",
    "    ### Weight scale used in He initialization\n",
    "    weight_scale = np.sqrt(2/prev_size)\n",
    "    ### initializing the weights and bias of the layer\n",
    "    weight = np.random.normal(size=(prev_size, layer_size))*weight_scale\n",
    "    bias = np.ones(layer_size) *0.1\n",
    "    ### Add weights and bias of the layer to the parameters of the MLP\n",
    "    self.parameters.append({'w': weight, 'b': bias})\n",
    "    ### Add the layer's activation function \n",
    "    self.act_funcs.append(act_func)\n",
    "\n",
    "\n",
    "\n",
    "  def feed_forward(self, X):\n",
    "    \"\"\"\n",
    "    Propagate the inputs forward using this function\n",
    "  Args:\n",
    "    X: A numpy array of shape (b, input_dim) where b is the batch size and input_dim is the dimension of the input\n",
    "    \n",
    "  Returns:\n",
    "    mlp_out: A numpy array of shape (b, out_dim) where b is the batch size and out_dim is the dimension of the output\n",
    "\n",
    "    Hint: Don't forget to store weighted inputs and outputs of each layer in self.weighted_ins and self.activations respectively\n",
    "               \n",
    "  \"\"\"\n",
    "    self.activations = []\n",
    "    self.weighted_ins = []\n",
    "    mlp_out = X\n",
    "    ########################################\n",
    "    #     Put your implementation here     #   \n",
    "    ######################################## \n",
    "    for i in range(len(self.parameters)): # for each layer\n",
    "      weights = self.parameters[i]['w']\n",
    "      bias = self.parameters[i]['b']\n",
    "      weighted_input = np.dot(mlp_out, weights) + bias\n",
    "      self.weighted_ins.append(weighted_input)\n",
    "      mlp_out = self.act_funcs[i](weighted_input)\n",
    "      self.activations.append(mlp_out)\n",
    "    \n",
    "    return mlp_out"
   ]
  },
  {
   "cell_type": "code",
   "execution_count": 6,
   "metadata": {
    "id": "lbV9ARrg2kJ2"
   },
   "outputs": [],
   "source": [
    "# Test your implementation\n",
    "import pickle\n",
    "\n",
    "x = np.random.normal(size=(512, 100))\n",
    "mlp = MLP(100)\n",
    "mlp.add_layer(64, relu)\n",
    "mlp.add_layer(32, relu)\n",
    "out = mlp.feed_forward(x)\n",
    "assert len(mlp.parameters) == 2\n",
    "assert mlp.activations[0].shape == tuple([512, 64]) and mlp.weighted_ins[0].shape == tuple([512, 64])\n",
    "assert mlp.activations[1].shape == tuple([512, 32]) and mlp.weighted_ins[1].shape == tuple([512, 32])\n",
    "assert out.shape == tuple([512, 32])\n",
    "assert np.array_equal(mlp.activations[-1], out)\n",
    "\n",
    "x, out, parameters = pickle.load(open('mlptest.pkl', 'rb'))\n",
    "mlp.parameters = parameters\n",
    "assert np.allclose( out, mlp.feed_forward(x), atol=1e-6, rtol=1e-5)"
   ]
  },
  {
   "cell_type": "markdown",
   "metadata": {
    "id": "W1x1RoqL8uUg"
   },
   "source": [
    "## **1.3 Loss Function**\n",
    "\n",
    "The next step in implementing our MLP is to see how good our network's output  y^  is compared to the target output  y ! This is where the loss function comes in. This function gets  y  and  y^  as its inputs and returns a scaler as its output. This scaler indicates how good current parameters of the network are.\n",
    "Since you'll be doing a multiclass classification later in this assignment, let's implement the cross-entropy function but to use it in a multiclass setting, the network's outputs must be passed through a softmax activation function and the target output must be in one-hot encoded format.\n",
    "\n",
    "![image.png](data:image/png;base64,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)\n"
   ]
  },
  {
   "cell_type": "code",
   "execution_count": 7,
   "metadata": {
    "id": "FodSlcqz8voO"
   },
   "outputs": [],
   "source": [
    "def softmax(y_hat):\n",
    "  \"\"\"\n",
    "    Apply softmax to the inputs\n",
    "  Args:\n",
    "    y_hat: A numpy array of shape (b, out_dim) where b is the batch size and out_dim is the output dimension of the network(number of classes) \n",
    "    \n",
    "  Returns:\n",
    "    soft_out: A numpy array of shape (b, out_dim)\n",
    "               \n",
    "  \"\"\"\n",
    "  \n",
    "  ########################################\n",
    "  #     Put your implementation here     #\n",
    "  ########################################\n",
    "\n",
    "  soft_out = []\n",
    "  for i in range(len(y_hat)):\n",
    "    soft_out.append(np.exp(y_hat[i]) / np.sum(np.exp(y_hat[i])))\n",
    "\n",
    "  return np.array(soft_out)"
   ]
  },
  {
   "cell_type": "code",
   "execution_count": 8,
   "metadata": {
    "id": "XgGX8D_M9DAe"
   },
   "outputs": [
    {
     "name": "stdout",
     "output_type": "stream",
     "text": [
      "[[0.25 0.25 0.25 0.25]\n",
      " [0.25 0.25 0.25 0.25]]\n"
     ]
    }
   ],
   "source": [
    "y_hat = np.random.normal(size=(100, 5))\n",
    "y_soft = softmax(y_hat)\n",
    "assert y_hat.shape == y_soft.shape\n",
    "assert all([(y - 1.)<1e-5 for y in np.sum(y_soft, axis=1)])\n",
    "y_hat = np.array([[10,10,10,10], [0,0,0,0]])\n",
    "print(softmax(y_hat))\n",
    "assert np.allclose( softmax(y_hat), np.array([[0.25, 0.25, 0.25, 0.25], [0.25, 0.25, 0.25, 0.25]]), atol=1e-6, rtol=1e-5)"
   ]
  },
  {
   "cell_type": "markdown",
   "metadata": {
    "id": "gF7IzCr5_cgb"
   },
   "source": [
    "Now implement the categorical cross-entropy function (\"categorical\" refers to multiclass classification). Note that the inputs are in batches, so the loss of a batch of samples will be the average of losses of samples in the batch."
   ]
  },
  {
   "cell_type": "code",
   "execution_count": 9,
   "metadata": {
    "id": "0wk08-ij_c_b"
   },
   "outputs": [],
   "source": [
    "def categorical_cross_entropy(y, y_soft):\n",
    "  \"\"\"\n",
    "    Compute the categorical cross entropy loss\n",
    "  Args:\n",
    "    y: A numpy array of shape (b, out_dim). Target labels of network.\n",
    "    y_soft: A numpy array of shape (b, out_dim). Output of the softmax activation function\n",
    "    \n",
    "  Returns:\n",
    "    loss: A scaler of type float. Average loss over a batch.\n",
    "\n",
    "  Hint: Use np.mean to compute average loss of a batch\n",
    "               \n",
    "  \"\"\"\n",
    "\n",
    "  ########################################\n",
    "  #     Put your implementation here     #\n",
    "  ########################################\n",
    "  y_soft = np.clip(y_soft, 1e-12, 1.0)\n",
    "  loss = -np.mean(np.sum(y * np.log(y_soft), axis=1))\n",
    "\n",
    "  return loss"
   ]
  },
  {
   "cell_type": "code",
   "execution_count": 10,
   "metadata": {
    "id": "ZggitQZ3Abkv"
   },
   "outputs": [],
   "source": [
    "# Test your implementation\n",
    "\n",
    "y = np.array([[1,0,0], [0,0,1], [1,0,0], [0,1,0]])\n",
    "y_hat = np.array([[10,1,1], [0,-1,9], [100,-9,9], [0.1,12,10]])\n",
    "y_soft = softmax(y_hat)\n",
    "assert round(categorical_cross_entropy(y, y_soft), 3) == 0.032"
   ]
  },
  {
   "cell_type": "code",
   "execution_count": 11,
   "metadata": {
    "id": "X3BddJG6BZfM"
   },
   "outputs": [],
   "source": [
    "def softmax_categorical_cross_entropy(y, y_hat, return_grad=False):\n",
    "  \"\"\"\n",
    "    Compute the softmax categorical cross entropy loss\n",
    "  Args:\n",
    "    y: A numpy array of shape (b, out_dim). Target labels of network.\n",
    "    y_hat: A numpy array of shape (b, out_dim). Output of the output layer of the network\n",
    "    return_grad: If True return gradient of the loss with respect to y_hat. If False just return the loss\n",
    "    \n",
    "  Returns:\n",
    "    loss: A scaler of type float. Average loss over a batch.\n",
    "               \n",
    "  \"\"\"\n",
    "  \n",
    "  y_soft = softmax(y_hat)\n",
    "  \n",
    "  if not return_grad:\n",
    "    loss = categorical_cross_entropy(y, y_soft)\n",
    "    return loss\n",
    "  else:\n",
    "    loss_grad = (y_soft - y)/y.shape[0]\n",
    "    return loss_grad"
   ]
  },
  {
   "cell_type": "markdown",
   "metadata": {
    "id": "_nxSONIG-qT3"
   },
   "source": [
    "## **1.4 Back-Propagation**\n",
    "\n",
    "After calculating the loss of the MLP, we need to propagate this loss back to the hidden layers in order to calculate the gradient of the loss with respect to the weights and biases of the network.\n",
    "\n",
    "![image.png](data:image/png;base64,iVBORw0KGgoAAAANSUhEUgAAAegAAADLCAYAAAClHwAgAAAgAElEQVR4nOy9X2jrWr7n+fVMPbibeUhBgx2oITpQsH3gQlxQYIXpwWposA80IxVcxgpcsAsa7IIZ7HqKDPchBQ3SgYH4PMW7aYgLLmOdhyE2XIjP0BDtJ+vMS7yZgujCQHShB2vDDPFAN/bDhd88SLYlWf6XxPm31wc27FjS+vNbf35r/dZvrRUjIgKDwWAwGIxXxX/10glgMBgMBoOxCFPQDAaDwWC8QpiCZjAYDAbjFcIUNIPBYDAYrxCmoBkMBoPBeIUwBc1gMBgMxiuEKWgGg8FgMF4hTEEzGIy3x8iExqehGKOXTgmDsTOYgmYwGG+LkQktX4NdqQGKwJQ0493CFDSDwXhTDPQW9po9NEslaEYLnN7CYPLSqWIwnp5Xq6AdXUJM0uE8MhxTiyGmmZvHueG7L0FAJo4OKSZBf6yAAMDUHidrU0MsFkMsFoO0kCATmj+dT5lubFe+z4sJLRbDNGnBuhV89n4IlfXC40fWM490pYlKes/9I55GpVlDOv7IQBmMV8gvXjoBjAeSlNEh+aVTAQAwjTrE9hAdOfnSSXlF8FDYMfcMBuMR7H4G7eiQvNnVwgzLN/Ny/2lYNqlwdMn33nyUvjjTXj07MbVYME7vRUeXsH/cBepHgfCWxbsk8Pm7kg5dC4Yv6To077n7swNdCqYnOAM1Z+/HYhJadliu/vSEwvLLxNEhxTTo/rxMn5saYkd1oHuM/Y3lP33PjdP9fD+i/ExosSPU0cXxfrBM7FZEWqLkuOVMMzqdUc+CZblZObv59ZdRdP3TYPrq4bK6BUNbmtZQpiBN65Ovzq6U04p2Z2oxSLrpqy/h/K6oS0vDXl7Ws7RG1bNAHp7OssJgvAtop/RJBUjtR/zdVwkQqT0MPoP38rAtEsQ2DWn6rkrzYOZ/B96LiLOvzsPsqwi+21cJvneHbXH27kIaotLhZ9gm0Z9XL+xAfgL5HVJbxGJ8s3fcfIjTD7zwZ+kZtkmcveuGJbZ9UvDle/btPHHBsPtqSIbhrImBfIf/7qvBuIP0SfXne5O0+GUcyGdE6GpYxkvSuaIOrXwWJYtZ2r0yDH/rVvBAPQx+59X1mcwX60IoUhIRkvFKOa1od1OZLdTVDevSyrBDZR0mXM/CfcBCnxDi7oqqYpHE3AGJ5zc09n4e35yRmD2hq/sl3zEYb5S1Cvry8pLS6TRxHEeXl5dbBb6oPFez0NmKbRpGdBir41iuoCNiXNOJLnYWy5RRWLmHO92NZOHvZCOURCCM8LsLYfvSH6HkAnJZqaDDHfI8b1M5bK+gl6XFDTdcXIuyjfp2TTpXDa5WPQszbJM4e7dPKlRS1WB9myur1Qran9aV9WNBZuvkFCULf3bDbSIkpxV1aXU93kZBR7fr5e31ji5yIl3c3dN1FQSceGUwdv9ObFh+DMYbYq2Ju1arYTAYwLZt/OlPf9pqdm7bXYDnsHJl0mcuO6pHhgI3mKdb35ybM48QGSUAODZMz1znNyNGp9HNq8hxvl+S4PjN0jMzu+8fozuL3gREDoEQlwTo2KZnOvSndUXetsGxYUJEIGtb5G073LKuHwVlvn/cXf/punTyJbTFOo6izMGrnoVJcuBhwnYAmAbqqoASJ8J0f4BRVyHsRDZ+1smJR6ktzp9HZCiqrnZte21d2qhNb5GHcLvmODH6dctAT6hBTg7Q04FENY+0+wCmDiCfQurRaWIwXhdbrUHTUzq9TBXz/jH4PoGI0FefLvjoKCWvI+PRJwJRH6ujFNEeumnz/3sqZ6ipYj4y2xgSgYZtLOme1iN6YQT+dfAW/bbU/qLMSXms1ktC7szrmau8pmueq56F4SGoXeiGA8c2IXIckoIM6AYcx4apCti5fvZYJaek3HH/djO0xMN+Ca+xLqVK0BUBMDv4/gsg5XnEAcAeoPcFEIU09l4weQzGLliroBuNBg4PD3FwcIDT09OtAuc4ETDtyG0VjqGjq/ZBRFjd93Jwg3ms94gDQ+96nZqyvhNNcuDRhW2ve9FLJSeiG3jZgb3SucmEUfcGAB15YUaSdKc0CIS4JMCod5+MSDmsy9tDeURZb5FOXiEQDdEWXUW76bPZO4KKrm3A0AFZSLpxd20Yhg5+99NnbCUnXgERYdgW0dWNWVuMqqsix62tS6va9HZE58G2V1lLJjA7PwAoQxLcfVUjy8QnHEJIcyu+YzDeJmsVtCRJMxO3JElbBZ6UFajdY7RmnWTIC9bX0B1dWmI+TkJWVHSPW3PPT58Hs9uh6Jj2pY6urTTtzjsEB7q0ygw8NRP6vWuXe4gnBRli/Wj+zGxhvWXWr1BMaD4T99Tsqs3d1VFZFuDUROtPmKmt9gzemEU5OHoFx10VypNPqaZlXVnwTl8/+1uTzrA8HAN6V3QV7KpnUXAcxPoxjrs8XAstB06s4/iYfwbzNrBeTuF66g5ORVmYDwTr2vxbszWX05q6tLZNPyYPpoajuoh2aZkQR3BsACKPlLfv2TI+AuCRYvZtxntk56vcU6/d6b8FD9j5736v27Azivts/r7fj2TqlQqAxHY/4EAT6c08CyPkPTt7HvRQXhbvAlPPbc9Dt+1znop0rvG/D5Haw5BH89Tb10tTe5mT2MK7Ic/idU5is2+XO/gE5R90yFntJDaXoeh6Ga1Jy2JZrw176beL6dykDq0t52Ue+CucFYN167FOYlF5jfLyjmp3U5mpvvoSDntFXQrkZUnYS8ssop4ttIEoAUy5p6syCLkLuiMiumtTIQFC8ZKYAzfjPRIjYqcp7ApTi0Hj2AEejNeFqcVwhP4TrOu/AHYPtUoNVlLAnt3Dj5/+EdnzWxgVNoVmvD/YSWJPhKNL2NdlDKfryY4OrS5CHjLlzGA8BSO7h56ZxGnPwh4Au5XHj5/SqOSZcma8T17tWdxvjaTcRBu+7Sn7OuTh2/SiZjBeHwM0+e9wXPMuxrB1KIqFYrsBmfmHMd4pzMTNYDDeABPYeg1yawIhHYflcCjVKpDSbHMV4/3CFDSDwWAwGK8QZuJmMBgMBuMVwhQ0g8FgMBivEKagGQwGg8F4hTAFHcZuIR8LXkKw+l8SNWOyZSQTGIoAQUgh6YWREgQIQgUddh8ug8FgMMCcxCKYwKhx+Fc/fEHmpA0tv3yf1GTQwHc9CXe9Eh6002PQQPo3f8Tn4iXuWxI77J/BYDAYM9hBJQvEIdQ05H74PX7q2NjTZO9auzAO9IaJaq31MOUMwLYMfAYg5tlNPAwGg8EI8upN3Havgd5OrmlaASehVk4A/1CHtsTmPDFb0CanqOQfqlonsM0ugEMIKXbSAoPBYDCCPJOCnsDqaCgJJdRqeQiVBpqNJpbc5udjgI5i4Qluh9+SPeQrCjIAfjzVMVh4PkKv2YBQkx9xSbx30TzySEdP0Wc4RhMVSUCppqAkpCA1TIz8L0wGaJYE5EsVSCkBtV5IsHYPtbwAuVKCkJLQHGy7Zs5gMBiMZ2f393GM6eYsS4lEla7u3b+vyiDgkM5uVn951y5Qdt1LO+OeLovuLTvFy9BdOTdndJg5o0el7O6Cslh3E8+Y+mqGcFimy7tpsi6pCJDYvpu9c32SoMOTa7ononFfpQ+Zc7qdR0QXOZB44b4/bBcI5SsaPybtDAaDwdg5u59BD5qo/PET0loNrjU4jj0ugXV3uI5MDaWOhFZtzfRyZ+xBqp3hEMCfGzqsecrQaWjglWVr05vhDHr4BEAUlq8/j3o1SPWfUTw9hTS1gu8lkQLQ1U33Lu2RAf37L8jnBezBQa9Rx4jbQ3wayKCDxk85SAIHYIBW7UdkOLbizWAwGK+dHTuJTWDoGn5GFuf8VMPYsHpfAFFAOh71yQCtSg3KnycQTiR0Go2nT1Y8DbkirLecp0s4Lf4Rv/vzH9DoldDMx4FBC6eWgpa0/Gtbl8E30ugYCvioPGICy/gRwCGEdHj9eQJTK8GSNKDxEV9Qhuz3JHecCJM78P2/4mAUJVQqQzhCOG0/4fd8CrpUQcW4h5liCprBYDBePbudoN/Q2SEIOKHr6U/DSyoAlD2/Xf7Z/S21y1kqzMy4L8jNGR0ChOw53dI9XZUTVLxcfqv8/VWZcifXdHd7QYWc39QcCNSTS5muwrbm+0sqHp7RjScniG3yxza+rhIAOvSZ/u/751QWs/Qh4Zrkq9f+QMd0e6lSMZuhA4CALF28ArEyGAwGYzU7V9BqwlUysxXT6yoBCTrpr/v2jtqFDJ30X3q1dL4WXVZVyhyqj1t7JpqvP4eU73TN+fDsZjaQQUBQY7quJgiJMl0OicY351TMinR248no/orKAIltN9ThVZXErPsuERHdnlMWCVLXyp7BYDAYL82O16BT4EsJwBlhAgATEw3lBwAShLULuBzkpgKn0ow06T4fe8hXVBwC+FivI3VaetTaMwCMLBOfAGTzaZ+ZfQSzIUGqx1HJp4GkALkIwLIx3WU2Mk6h6CmoHQ1SErB6p/izvYfknmdHHzmwE2WUhCQAB2brB5jgkPQeTxwLVkZBnn9kBhgMBoOxc3Z/kthkgGZJhh4XwE0cOIMufkq1cdeRNzjgYwKjJsCqmKg8fD/TE+BAl/ZxbKu4GSjRCtruoFJrYmBOUDIMVFIDNCUFdkWH5u2VHvUUSJoJx/qEf/gC4CCDLBcHMIH96Wf8IwDkLuYnk00GaFYqaDg88skB7LiM2mkJwlTjjkw0agoGexLSGKA3SqGiVCB5a8wTS4ei6JikBOyNTNgQUDmtYGGJmsFgMBivjuc96nPUQ+WX38E6v4Xxshp3eyYjjCZx7O1Fen3B1FIw0hrs7yrYu7ahcTqEb5qQb196cMFgMBiMt8gOTdwOOiUOsVgN7l0SEwxaDXxMFFDJv0GNFd9bqpwBIF0xUZr08DFRQp6Pu9uoEgLYIWEMBoPBeAg73Ga1B44XkHVGMJsKdMOEk5RxPSi9SxNrfC8Oy/iIhHSFdBywzB+RyF8itVynMxgMBoOxlB0q6DjSlRaMivdnbXcxvQ5GcGwAfBJ7sDAwgXQp/fynlDIYDAbjXfDqL8t4OyQhlIrY6zWh1Sr4w6eDiENIGAwGg8HYDKagnwrbQMfm0dSbkNNxJLIK8i91SimDwWAw3jzsPugnYjIaoNOzIaEEbSCh16k8er80g8FgML5ennebFYPBYDAYjI1gJm4Gg8FgMF4hTEEzGAwGg/EKYQr6vWC1IAsCeC6GWCyGGMdDEAQIjZc9yZzBYDAYD4OtQb8rRuhVfonvPh7i7GaAGvNSYzAYjDfLzmfQji65M7pYDJq569gejqNLiEk6nA3fN7UYYq8uQxaMjwASefCPVs4OdOlxZeboUkBGu5TZy9YzE1pMgu740rJFXXrNhMswiAntlbdrBuMts+NtVg4MvQu1T1DYFYe7x7ZgAkCex2s87ZxXCLsx17B6xmAw3h87nEGb0GL7OO4C9aPYfEZharOZTsw363AfxaDpOqSIZ3Pcmd0sjPBMJRB+DLGYBv8A3z/TWozDRssXthSdgPVp8n27OGt0352HvSI/jg5J0qFr3rM1UxVn0MMnAKKQxt6mKY+Uh3e9pld2s7Sukm04rcdZ7LsBzPLkl4WpxSDpOjRfeEExTeuBG4++dFYaUc+WyC2YV3+98GbApi9OSYfjzRCj64r/2yPU0cXxvj8Pq+vS6nq4UErBOuIXlKNDimhHgTxrpvtbhJwXZ/vzWbGjSwtluJJAmYXrU1gG4dm3GagLC3kMled7slIwGEuhnTKktghS+96ffZUAkdrD6L/7KghQqR8VlC88cRaA9800gnD41CcV4ee+8H1/D9siASvSGmIer5umWRyzsLxvw3EO2yTO/l6Tn2GbRASfL2dM11UQcEhnNxu8Hsr/4t9ryi4s24i0DttiQC7+vLllPQ/Pldk0bjdscf6QRIAgtilaEqG0LkuLL69R8c3D9/4O1011Wc3sk7qQl+WyG7bFYF7C5RCRt3ncob+HbRJD9dSf1mlawrKcfx5Ki5f3wPOV+fbeDYU7S6cXdmSeQ/IOfxtO82btgMF4P6ydQXc6HfzmN7/BN998g06n84ihgANdq0NsNyFPb5DgFfTVLo5bvtGyKmCpldJs4RhtNOX5FRS80oda19yROq+AqDMPHzwENRx/aR4+r4BImf8ttlGa/sELUNGFba/LVxJyh0A+22pSkCHO4hCgog7Dy6Jj6OhO87guP26iIG90/ZcFUweAPNIPXX8Oy2Ph2TLZbptWD1WZhefKzITtADAN1EWfXJIylIW41uFPi4nWcRdqf563pNxEW6xD883qVEX2Ljfx8uZLHy+ogGlvPmNbWpdMtI6BdlOeX6TCK+irwbTMMFs47qroz+pXEnKzDTFQR9anJSzLuvHEC8dJGR3yLzEkIcji/LEgQ+zqMKbGGKMOURaQBODoGupqP/Ct3GwDxy2flWPLusVgvAPWKuharYbBYADbtvGnP/3pEVHZsLsAzwUbGceJS95fxLFNoHuM/YAZ7Qj1hRfnpraj2cPo+J+SmRlx/xjd2a9uZ2/abs9k212oAr9dfjbBHqD3BUCRXzxi1NZRUgxMwr/zJbTFOo62ca6KlO3T4tgmwHOBm8C2qScRAcKECC5wd0kS3Jr1apHbwWUnjg3TM4f7lwuWydKxTUDkEEw6t3wQG0WULLcZbGzF3FS9fzxvBUgKkMXpIMWBbc4Vrm17ZnR/Owi0IQbj62SrNWh6DTuyxDaGRKDAP29mN1Ue+8fg++6z/tYzr+2ZKuYj00vbsA2/OuEFFV3dgAMTRl2F4O9dV+VnC0aWiU8AsnxqYf150NEAPo3Fq6m92b8np/rRivXQF5Lt+0REexguc0Jn20J/VUwV8xHM9hBEhGHb3wrcGXXdMAHHgA45eC+82l+Qx1JrDoPxlbBWQTcaDRweHuLg4ACnp6ePiIqDO3AP9v62vfk4OcnxQNfGMquzaz52G/qiN290/I/HhFH3OtyOHH3/My9A7eowdAN1nwl/XX42Z4JB7yOABPLpkP+2rUPT0pCE1W5jvEIgGqItdqEbizJaLdunJcnxCzO8bepJRIDgF5YrHNgvsT0oMi2rXo+oI46NrZIeJcvQrPrReMsSwxUDjaQgQ6wb0A0d8MzbwK5n9AzG22WtgpYkaWbiliTpEVElISsquseV+QzN1HBUF9EubdjjT02yflusqQU9cn0N3dEln+lwGn8r6Hm81oN2E/wdrgltwTzHQ1C7OD6uz8zbG+dnIywMDACQAuvPE7uDinyMHyUZ+Sj9HI7LMaB3V6z1LZXtE8MLULvHqMw3FkN7VFw8Sm0R9aN5Xh29guOuCuXZZ62LaVm5n3ihjjjQK8foTtfHPYU/G1RFyap7jNY849B8bc4dAMzXhh1de9gSCxAcSJha0MQNeGbuOo6PEahjSVkJljfe115yBuOhPO9Rn7wC6vPz9bcjE+3hNubcJOROH6p/veoI6HumsKTcRBvzNd19W3HNbHXD7Qx5BcO2OVtzdc2125uTQ5mC0lc987C7fYcb9qEiOBPlXa+joHl7TX7WY6ElCRB4CX/8DAAd1PKCe8RnKol/9s3v8PHnBKqyEGHexsw5KVoenknyyN3Wsla2EbgzpqMHDDh4KMM2cLzvpcuG3BYfNetLyp1A2e8f81vIeX16BdVdV95ka15S7gTl7hb6EstEEnJniLY5rSP7OOb7PqdEt/51p7KqAEo7tF4vqoC2pM5PHTW9NlmBAv/nG5dhuC5pHIZ9NaD8Z45jYsi8HS7vWAz7uozhMosUmAJnfB2woz6fC1NDzBAC3t6MzXF0Cfu2wuS3JY4urVV2z4mjS6ig+cbX2xmM54FdlvFMmEbIvM1YzoKZ39smxeT3xnHgLj8z5cxgbAJT0LvG834+Qp8dQ7kpYXPpShMw401gaojF9qHLzUcuKTEYXw/MxM1gMBgMxiuEzaAZDAaDwXiFMAXNYDAYDMYrhCloBoPBYDBeIUxBMxiMEBMMGjJKnfn5ZXavgZqUQizGo6Q00NAH7tnuExOaVEGPbUhmPCV2DzVZgzm9QGBkoqWVIMRiSOZraDSas/31tl6C1Bws3jXwHni2e7MYXwd3bSoX2nT30ulgPJhx/4Qy5Su6D/3ePwHh4IzCt5mO+yod5i4Wynx4WaZym9UExrbcUVvMLF6be9cmEQkqXoavHR1SW0zQyfX4uRL4bLAZNGM7HANaqYTmIGK8auuQBQP5howd3AP1KKyWDCGVRCwWQ3Kja7sewaiHmpBCMhZDTGjCmj0YoJkXIPCct32MAy8IEBqD3aZnK2zopzqEkhC6dGUAswck8qmFso3zMmpQ0AyJNSkpEDo8JP3xp82/eSYGFIEHF1txIc0TMmjmwXPe6XC9eVsd9WoQBAGppPssmRIgCBV0XpEFZGI0oaAGKXQt38gy0AUHPhXep5eEVCuh1eg8wb0Gr4yXHiEwXi93V1XK5XKUO8zR2Y07Oh22RQISVL4Kz6+GdFmIGt3ugPsrKh+AEDHLW/1ZmQBQ+WrNSPv+lm4fm43xNVUBSpz0l6bjcGGK8Aq4a5OYOKGFycjwkgoAie1owdxdZAnqYl7p/pKKEOm9TaRvzrOUwOHiLG/1V3R2CEL2nG5Xvjem4e3dVnU7iruLLCFS9l46UKTLx0ayA/onoNzFYoW5UROEhEoRtcxrbyItqZ5vFjaDflc4GHRaUGoVlEollEoVKK0OBg8ZHY86OP3uB8TjcQw+/wStNwAwwsDoAgcllEK3Y03MFk4NGaX8M5xCMZkAnAhV5heu1lyFNegAKCLPR55M7jFAQ/gW3yodjB6TxoEJHUCeTy08ctMB8KnFZ8/PCJY1ryAT20Q3nQIXEtHEMvAjDiAszF5cklw6+kaqvTxKJyaOGxH3ke8IR5cQ26mVZAJM9pAq15DfpggdC8Zn4FDiseqzUa+G/W8ltB5lWHFgdj4BhwJSYZOHlw5keaS2aUA7YuJYsGeNzYZlJpDmwvXMxqD3JdKCAwCIc0hn198SZ2qxB9WNcJ16aDjbwhT0GuxeA703YDeZWC2UeAVmMo/TRhOtVgutVhOn+T0YlRTklrVVBzkye/gzREi1Ck7P2uhVeAAWBh3goCIjqOMmMDsNOCUZwird91QkJTSNDpQ1V2gGGcDUvwBiHulVn9kDdD5H36u9DQNTxxeIEBYis2H1vmD9QOF5GDQEfPutgo7XQY4cG9jbW7hcxRoYQEKG/zZTqzd31InHk0uujIxDkGpI/KDDeA4N7eio6DKGOz12Lo50rQOjWUJqiyIcDQx0kUCeT694a3p1LI9Hjd9GAxhdAPk0wrFNLBNdrB8oPAujHmr730KajUYcOJ+Avb2QYEcWzE9AWkjPz5QfmWhNnRURR3wPGDirZyO8Qm/qPP+vQ0FPLHS0EoRSDbW8gEqjiUbT2OAmnAE6ioWXuWVgAqujoSSUUKvlIVQaaPo8FwM4HZQqDkq9Fip8MtC5xpMCah0TNacEeYuFL3vQAZACJ+RRqcmuUrMt9L5kUMuHm7wFs/VlcbY4GaBZkiDn0+ArvflVlZ0KBKkFC4DTkZGMpeFfhh1ZHWilPORKDaV8HrXpCGliopGXIeU5CLXeYvmNTDQrEqRKDSUhD6XZnHsb2+6s4cOeiYZcgaKUIKTkhbX0kWXiEw4hLcx8HRjNCuR8CbWaBF5qIvCpY6BRElCq1SDlZZzqn4FDAemF2csAvU8IzV4mMDUZeSEJTmpiYHVQk2VUaotpnJga8nkBPFeCbhpolCT3PaHmDiRnMueDMnI6qAgSWpY/MTYG7mhkzUzKgWV8Bvj0XCFNDLRqI+xt0jZSaUj4iMEzLLWbrWPwyvxiELtXg1SSkE/m53KcDNCQBCi9ETAZQONjiJX8FpPlZW13SsjLEnhOivDDWN1mLeMjgDRGnQrkmoJaPoV8rRdaN/Wuji3mER6/LW0X7lNYeg2SVEGtlIdUaaADoBgxGLBMHUDIgmN3UMoL4JMCaj0Lg2YJ+VItIo02OqU8BIGDoPVg6jVI3ntTT+qZzAMymmDQkCAovYBlajLo4WM4LVFYA3SQgOAzB9gdDb14MvqmviUEZ77uNa+zmwSXzIgdXXKvTq0fhW5QMwLfBz93oEu+sB9689pL29h3zviGzrIJSlS99crxFZUBwuGiN2qYu3aBsi+yTjimm7MsJRJVcpd6x3RVBiFyzWtM1ycHVF1YEw6/dk3VRHVxbTGSIbVFEMSgZ+7wskAJMcJDe+h6VwaXIMd0Xc3QyfU93QbWwoZ0WZivww0vC5QASPQWyu4ui3SADKl9Lz93bRKhUt8LT73xra3515uGl1Q8AOXOb2lMRHR7TlmAULyke5qv+yYKbbob+/PYpiER3V4UKJvN0ocECDigTDZLWfHcrSPjPqnZhPutF13/ZL4eO745p1wiQWVv/X3sxYWT64hiqLrp8Avr5oxy6g2N+yfudxmV3OzfBdJIdEcXuSJdDvukAoREwZPpmK6rIGT/PbUjZb5EZvduWwishfdPCGGPbG89/WD23pj6aoYO1BvfK9XF7+YZJDUxL+OdMZzWFY+7C8qJF3R376YfU3+AG5USU1+E8Q2pGRBw4n63qqzvLihXvKTh1L8gUOHXtdnpum+G1GuvbvdVAuC2m/E1nWSzlM0cuPXjQ5ay2eysXS9vF0REQ7oqZwiZM3JdRW7pPAsCRFpcyr2jC+/ZvC7c02WxSJdDr74hQYVpWXl1cprV8fUJZdQbumuLBIAyat/tV+8uKAtQtf3vo2UeKTOim7PD0Fq4m4Zw07m7yBISRZq5uNy1qXBQmP9Nd3SRXe/J3Vfh+Uq47X/uUxH+O8iwLQZ8LPpqUIaub868PMJhzePdjnevoG/OMgTkfBW1T2rCdTBaVZT3fZWyL7Vd6OaMMgg6SvTVBAFlWvRv6tNJ4iToOHHfp4uzc2rfBJV2X00sVPyF0M6ylM1m6AAgHGQom81SVr2mMW8FvzgAACAASURBVBHd315T/y5CajcqJcLOKONrOim26Y7u6CIHX+fdp5NAQ3U7jJNrcjtAgBLV61nZ3LULdFB2O8VZeFmElME9XZUTBP8AZNgmEaDsueuO0z/xnGICDTpcD7y64Sl1LyN0fZII1qFxn9RMZt7xZkKOP31XARQjPHDcDinoqHZ7USD1euw9O6S53vPSOB0UDa+oWr6ku1u3M5zmzY0SBPx39D/8j1Ey9wZF00Hp7QUVslnKfkgQADrIZCmbFen8hryO/4Sm1eS+f0Fn1RwlADosnNDZ2QmVcwcEHPjS6Xag4c53jjcYekAHtRV91TeYmct1fH1CCSSo6lUOV7nMO9fxddUbjK4u63l4VYIvPCJa32bv3Pp4GB7UIEu+YvQ6+tBAfFW7IHfwmQjUKU/eUZMQb1AWqK/TtjV9VrycyXA6oJyNbc6zdNa/dweE/v7Ia2/4638dKfPpoMhtE2O6PvH1M4kPbj/jTaKCTmK3dHV2QsUMCMhR+eyMzqoF+pAAJQrzdG7qJLZcQa8mUkH76/OwTeI0/lA99L4g9QFObO9bQY+v6SQRqozeSG9pwYxv6KKYpQQyVDhR6ezs7On/nV/T8nKadhL+hjvvqBe+G7ZJDMxq772R+6KX5rAtbjaL8ToTMcKTMpK+usRblGbynjW4mzM6DHQmd3SRddM5VV6ZokpnZ1UqiyIV1Uu69es57/uAt7jXgfmV7bQTdduQN3vxy8nrUAL1wAs7IKNpp/VBpKp6RiflIomFMp1fe7Pl6xNXefl6VHe2Gux4p3l1ZyhRsvLK2O+l6qUx7AnuWgP8FotpuF5534UUuDd7CQ9KXQUS9uS9o4tcgiKcz1dwRxe5AzrpLxvyegpju0C3JtyJunjWhdngzWsfvj5hfF11y29NWbvc02URhEPVp/zWt9lpmflF0F/wSvbSFhpwr24X3mDMX45LytuN1J0RR+0umCrj4MwvEVFf5+1p9qYXrtsOxgsKPLJNePU7vJthfH0Sbalbwfj6hA42+CagWD0LBrCkbw0kdXMFPfSsC4v/mIIO4nW4flPj8LKwpPP0cX9L7XJ2buZ5VqamsPksZrrFJRuV6PsrKmeC2zZccxjooHgZqLB3F9nIWV2YoHLbgBUKOtwwXfn7TG+zAYY3y1uz9WOmVHwVfWq+9g8obvyzl4iO4P6yuJBmd2YVqhveyH/Zlqhp5zmvYqHZqp+o2Uv4ma9TnXbq1ZDZzrUG+GYv02+9GfNCZzgbePh7h4hBi8f4ukqJbbaw3ZxRZqW16XkUdKQZcUFZueZ2f5/QVw9cxbmmrIloXpf85oMN2uziYMj9JqgoXetSULGuaRfTsvcvR91sZ8EJPvPXfy9f4aWLu6B1av6tV1cXZD4deAS3SEUNWrwI6CK3zRa2e7osZkhdOkCcE1lHprN/LLfybK2g1yj8TXnnTmITOADEmafOBJbxI5DgA96oC+ylIDdbkDoyFPP5D5CbuImebSdwt7gkwEclei8FPt7DwOcvwkkt2ESwW5JvS8IIAyMe4VW8iDUwAOQ39yJNchDhYBQhKsf5BGAub9v6EUBqtvVjZPYwkXhwnhcmkEQylMTJNOCJgU7jC1CWkd8zocmuo9lk4rqdpGYOJO6WDIgCUvG512o+PXWYcdBr/RnISeCT03BGsIwucCiBT8HnIRpHEgAXThQmbn7dwvI5g9kwfwTAp8ANGhCaPs8oy8BHAAk+veA9O3WWEYWU5/Qygtn5CCRkSPwIncr0MAn3wJBp3ubfJlCu5MH5ZJ6aydzAZ2SRT8fRU0rQbcyc5rL59OLBI4KGXqqJ2ianV0xMaJqNU23V4TQTTEZAltvtnh6OExd/HDmw4ZOrY8H84u8TBjA7Ely/xzVlDcDutdBFFhUpDVsvQfFc01e3Wc9zXxTmOwjMHrTPCch5XzgDEz0AxTyPOACr10DPXtMuJhPX6So1335kWya+IAs+NUKnUvMdw2q7zn4QISy4n3sOg/6+cWCg9RnIyQK4QQP5husF5R4Y4u+PvG8zCkpCfC5zflqXLRgfAUhppK0WJC8c12lOgrDgx8ah1NRgnWqIOg8pjK3XoPNN1B66KyIpo0ME6qtA3cBjN08lOR7o2k9yaMr7VtApHqUE4Hita2I2oPwAQBIWth4swkFuKnAqTTzvOU8p8G6iZ2cdN9xER1RkN51SbQ9aZ3UqJ4MmNFSQX3vElwPb3MSz18feHpL4GXZEf55M5gCMMBoBgA3bq/1uidjotPZQkzgAe+ClMhKw4d8p4fQU5CveCUEDE99/AcqSgFFHg5EXkAKQTOeRAzDyytnWFSif5srHHXAUMXNodUx0ukBW4hE3WujxaaRgYfAR3raUEQztFA7HIZ4WUMoAlu3zPR1ZaMl5NAcjpPgSErPByQSmVsP3cBWCbehI+0Y5A7MHYNneaAPAoc9L1UuPlEfa6aHpCEgnMVOsGHn1AxZa2g/IqB1okuu7HI8f+kNGr9UFwCO1Z0DvpZHipp3s1Ft9BLOl+zpDdxtRS9rARTvOQ9Eba+qVA+sTwCV3ux0iyfGLW732kkj5+wB7ABvuVnoAmBgtGKWKuz1wTVm7e4t/ArIyBM6E3tjztsqtabPeFqFDYa7AB0YDXyAhn7bQacbBp+JwLAOfp1vz7BZOW0mkuDXtIplG3q383m4FHUrNLe/03gAdO43Z1vWR5W69itob7aUR+fnWK8cb2En8HoyWjrTXgFzF+mXW3ka9BhSrgLZec/vV+B6SwGxb56inowVXYVu9Bva4FGYDzam3utVDw++VzuXR7ChIb6BzObkFvZLeypt76mUt+Xa2mEYdUAU8ehMWX0JbrOPI79ZtaojFtO2V/xPMwl8145tzKnzIUrFcpIKYow/hNcbVX9N1NbPaHL4Lxjd0XvhA2WKZigWRch+iTZFz7qhdcL13I7nvk5otbHiak2dmW+dNFor/IgfKRAlqfEsX5QwdZIpULuSo2r6k82KGPuSKVBaLdB5wZBvTzXmRMrkinZydUFksknp5Mze1jm/oXDygbKFIxWrIfH9VpdyHHBXLBSrmsj7T2ZAuiwlKlH0OJTSkq2qWDnMiicVzuvG8bu/aRfqQKVC5WKQz/7rj3RVVcxkSq2d0Ui1QoXxO18OZfZmu1Rwd5MpULYpUbV9Ru5qjg0yWckW3zG7OfQ4xU+e73LnPBH5PV8Wg57ArC5EOsjkqiCpdecmZmgVzBZGyhSoVczkqX/SD5uj7a1JzHyhTqFK5UKTzywsqfshQNpebeQG7TmWuSfb++oRyav/RJ1ct5e6CsgFHzR0R9uL2uL9WKffhgHLFIuUK53TZrlLO6xPEUD1aXdZEw6sqZQ9FKhZDdXdVm705owMEz5Ye35yTeJClXEGk6uXdNKGk5g4oVyxT8aTt871Y3S7Gt275FqplEotndHV1TgV/eQ+vqOpzCgQS9MHnIU5eGj/4vcTdzFI1e0g5UaTyxa0Xn2f2zohUyOaoXC1QtqDSVcB5dEx37TJlDnJUPilSodqm9lmwTcx8QC7uiOiOLgqb9k+PI2Ca9pu2161Dz95169dKJzE3JnenxezfkhPQ1vDuFbQft3Nbs/782vDWmCLXn/2Mb+hc/EA59Ypu773GMr6n26szEjNiSBGuwHMw2mStOvhZbs0g4vlw18OiPN7fPtGOXdszvmu7nXq5SMWzVU6Lj2fYFldswXpa+urmnrk7Y9M2+xZZ4ti1PdOBbZHKxRNq3+5sePimeb8K2tsXi+nWhPENneUQmqW8NoZ0WTwgYOpxOqabs5xvv+t67m/7dNU+97zF23TVv6X7TRTV+J7u78c0vCovOGFtFvEVlRPPP/gZ35xRNuHzEr+/pHLCtz/zXbHcsev14nqFl5/jjHaimdPh86nox7fZt8Ryxy7GLvivT09PTx9rcn+V/GIC5y8W/mkSx8j8O2ja32Py103op/8Gv/rFSyduGb/AxPkLrH+aID4y8Xeahr+f/DWa+in+zYaJjv+LX+HXf/Vb8DwP/rd/hV//6l8gvvZTC81/+d/iv/+f/4L/6z//R4zyf4v/5a9/vd2aTvzX+Ktf9fA3rV/g30qpLdeDHs4vJiMM/vL/4J8m/xn/qfcfoDQs/PbftdD4t7991FGdrw5bR0n6n9D6+f/Ffxn9BYP/+Auk/+a3L3PI3RaMegpkq4L/8LfbnZv+YP6bv4KAv8X+33M4/Ze/eoYIH99m3wYTmNq/xt+c/m/4v/+//4L/9BcD9q8k5H/98sfVvmdiREQvnQjGSzOBqeVR6cWRTErQmpXV51WvDEeAxunoyK/twknGs2PrkEs2ah0F/LsaLTEYzwNT0IwnZzIaRV64wPjKmIwwwh7C9x4wGIzNYAqawWAwGIxXyPveB81gMBgMxhuFKWgGg8FgMF4hTEEzlmO1IAsCeM6705TjIQgChMbznq321WD3UMvnkc+nkW8M8PyHzDIYjNcEW4NmrGGEXuWX+O7jIc5uBqitPyOV8SBG6JR+id+NRIhmF12o6DvK448dZDAYb5Y3MYN2dAkxSccGR/evfdfRJcS0hx+Hvir8bdL5ONxzZB+RDTetMXdmvDoc76D7RH5+lnVUWLNATGhrwwx8DCkmQd+90J6ZLeUwMtH7MyBKNVROz9DuVRaUs6nFHlR3w3X+oeE8OaYWaC9Pla5H1ceHxLVRO3qCeHaRJ0eH9Cx9FuMhvImd9Em5A5JfOhXreSvpBBwYehdqn6Csm6LZlnvAu+8QfcYOsAfoAChxAvKCEPkKrxDes7lrN/njoezMSLhFO3pSnjBPSRlNWUJFF9CRX/uxN18huzukzD0sXA1cUB5xwPjsWL7Q4eK+9xbu1wxdtN32heu+q5IqzsOans0buEjbF17wgu3wpdr+dImkqsvv+gyk0zu4v70qTrXvXVrg/lsrK4jUHnp364bytkz+i++F5LzuovLLwsJdywt5DoTllbvqK6NVB8WHD5n3l63/24XD6Kfv+sIOfRuWp9qeHni/5OL08OH5/vfWlOeCLFR1of6vwv1WXHmhRLBOLG8vi+EG0+uGowa+D34erGNr77ZdVmZRaZjKtL9YP2b5iypr6pPq+83fbvz5X1of+8vS40+rF0d7k7q72I4+L9wDHIzbPSe8vULu4Xy5ce8+T0HZMl4POz2LO3hwvVehQ0rKfR6ucG4HEVCsAcXne3fa0EMNNPh8XvnCF29HK/9pBXbTJc4/djvwjRX0YocaHiyEw/Y35uW3pbjyWd75h9K98Pe676eM6boKAlZfnh6Uabicvc5+WWT+fIXKahaW2qdwnSAK1a+wsg518m7Ht26gsFgHtyvPefjTjnatjPtnlM1mKXMAAg4ok81SNqt65zqHXlWXyWJRNsGsRVw2H24Ts7RHy3lp+a0sM1osF//ffTXQlpbnL/huX0XkgH1+SdFifQw886Un+PeWdTfUjhb6kggFvVzui9/7/951nl7FJSOMBXa6Bs0LKrq64a5vODZMUYUKHYb7AwwdkIUkHF1DXe37zERJyM02cNxauD/TMXR0/e/yJbTD97SLbZRmzwWo6MKOvD3bROsYaDfl+ZnGvIK+WoemO4BpoA4VytT0k5TRXIhsFSLa84RAUIGuPyFiG01f2IoK1I2nWIPTUPeHDR5KX0U3Qp6rsWDqAJBHekvnMFWZyjQJQRYX7+mNgldA1MHc0ubKDL5wZvUJJoy6CFlIAnCga3WofZ9TVVKGW4V8OV5116t3abu/DgryQsVaUp6uqVNsl2bh80ofKjaAr8EwWq7znXgK3TBgGIp7P/HGJCF3aDsTparM5JwUZIgw3fu8zRaO4a87Xl7qWrSfwMoyc8vFLxf3/XXOb+Gydu/qFWUBSXim8I6/zQqbyRomWsfdQD1Jyk20Ra+9ezyo7m7KMrlP06bM85WUO8F87jBPHBeUN+N1sFsnMY6D2LVhw1WskEsQeE9ZOgZ0yBCSgG13gfrRzNkiFoshtn+MbkSQtt2FyPnPeU6Ce+j6j2PDRBfH+7FA3Ef16WMTEDkEYntwZBHwXKDxcdzTdAa23V0IGxyHbYYWbkAD9L4AKPJY0M+2jpJi7GYrkKNDCpUF4HVoXn1yB3xu/QFsuFUoWI77x1E1aB2uA85237vx81ygNMFtKvCJDbMLJPgUNjvBPAlZUdE93nfz+oROPo5tAt1j7PvbYuwI9bUfRpVZlFw2wy3r6WDePxjzRyltnj7Aa+8iAt3HY/qPpyQybQ/9bvs8JTkemLYtxqthtwo6KUAW6zBMV2nwXBK8oLqzRNsGvBExAEDtg1yTu+/fc2wzEdEehuPdcjbyThlZJj4ByPKphZuIBh0N4NNPe972tJPfPwbfd8uh758a+eqTO+ATAoMQtb9YjrSx985UMR/BbA9BRBhuZS15BNYABoB8ags3PF5x8zdsQ5wq1KdyIxbbGC60Rf8s2ce6MnsoSQGy2IVueJas2WBsrpj3j3n0iUC0obWCsZyHDOAZO2fH26xcc4pp6zDqKgQebkUwbeiGORsRbzNz5DgxaCaGA/uh/VKSA7/U/B09qnQeHFkEoTxHznwfQKQ8bTvSIrGcCQa9jwASyKdDisPWoWlpSMLTXlE0Xb4gWuYV69anuqHPlkdc3NmqaT9iHmkaqHuKafvBWVT87uxxExzbxGdkwaceIE/PNE99FagbWy5hRAS35UxqdZk9plzmZm7dZ972e05vPYCPbO+P6D+ekjV90XbfPSBPW/cPjOdg5/ugkxyP7vEx6lNTcZID3z3GsTkfESdlBWr3GBXfmsmyPcVJQYZYP5rvATRbeJAlEwDAo9QWUT/SfB2bb48hXwqu5Tg6Kg+PbJHuMWZLpI4OrT5f4+Q4MdDhmq1ok38Ui/I0oR2F1gLXYmFgAIAUWH+e2B1U5GP8KMnI7+IKQd/AwtGlgIkbmJb/MY4xrz9zk2/Ft07q7hWXttlg7VdMpraFiXsa/3yN39Q2NLsCsM0fAfDYfAK9mDfTqK9eY98Ur84f+WfjpoZYTFuu/JeW2aJcttn37pq5j3FcXzSTz5W+A13aVNaL7d3RKzju+vxMHoE7uJma5T1fkI2/9tKm+fq8dXL3f/fIPEUt5zFent0fVOI5cMxHwJ4TSWCmyEMZtoHpmloshn1dxjDKQSIpo9NX5+uNGoe2itC69HKmCn5a8ZNyB321jiPfehtm+xqTkDt98NN07duQn9LsKaqANl9z5/tzM+LU0WOaLkPwm/G8meTRMrMmD4V86fbMtpvNDC20JAECL+GPnwGgg1pecI/4TCXxz775HT7+nEBVFmbm7bBMH0pSbqKN+frnvq24Zmb/zDApQBb99WmaZQVuFZqW4z50edM8Y+YcOKsHGodhXw10uOu+H7bN2fca197Q7GrDMhG9zr+UqRPlvL0cmW0Ml5jztysft86rfp+QI6C/ZLa6tsxCcgnUc16A2j3G/jKF7ZU14FnfIvO+D1sZwo3SXJvfpNwJpMc1kz/RUhqvoK/OfVoqUBYdWFeQlDvo8771/yMT7aGbtl3nyba7i22K8eK8i6M+TS0GjduiM34FOLq0fBDCWIEDXaoAzSVrom+GCUajCeITE7X97zC5HKIlvekMMd4sJrSYAeFZfH4Y2/Amjvr0s2D69kzDYQ9PxjvF5/3/lrGaAn75y19CrjTRSVRZ/WW8GI6uwdxq+YvxXLw5BR02qcX2dcjDtz6bYmyCqXnl3Xz7VgcuLSF7mMVkEsdp73Q36/kMxjocHRVdDux7Z7we3oWJm8FgMBiM98abm0EzGAwGg/E1wBQ0g8FgMBivEKagGe+DyQB6JY9YjIM2eLpgHaOJSj6GGNfAEwbLYDAYa2EKmvE+iKeRlzggIYPf+MCPEeyBvfI88aQgQYgDCTnN7sNmMBjPClPQjHeDPeggIfBIbXhA+Kin4Jt8E+YqDT0awOgmIAlPfO44g8FgrIEpaMY7wYZlfsEXu4WGUoEgtWB5v/dqEiStAUXOQxIUGJ5CtoyPSEgC0lPNOxqgWZJRaTZQE/JoWQCsATr4AqN5ioYiI5VvYLCTK7wYDAYjyC9eOgGMr50Bmvka9AkQ3+OQXLEfeDKy4Yx8P+zJaHQq7hGZExtmN4HqtQ5NGECLHaFlyJBNGSW7BrMhA60evjlN4nRkoKnr6HwPcEUDrWYccmkPrXweZsVEJ90B9wcLsEewnR6+HJTRajWQn+gw9hUYVm3r+7EZDAZja+gdc3eRIwCb/0tU6Xq8o8TcXlAhm6XMgRfXQYay2Sxlz252FOHb4f6qTAmAcHhC/bXyH9Nd/4Kq2QQBoOq0wG7O6DBRpMshEd1fURkJKv7d/0plJKhwOSSiMV1XQYnyFd0TEd1dUBYZOr+dpwGJgvv9jCFdFkCJk2saExH1TwiJk93VEQaDwfDxrk3cnKygmgCADE7a17i+XvbvCmcikNNqEHa10JgqQTc6OM0DwCHOOiYMw4BRY1OxvXwDHTUDfP4elVNzpdMWEAfHl9AwTFyVM/hBNzAB4FgGPnM8Ukl4ZmkO/D//R3TAQXB/xMAA0jwHTLy7rg+kmUOZNfgIcIL7/Qwb5o8JCHwKcQCm0UJCEpCaMBs3g8HYPe9aQSMuoKblAPyMjr3n3sgU9S81gmFWUZN2fdmaBeMjgEQePNPLPuLgaw24OvoIlc5o/SfgkG80oJot9BwgvpcEuCT2MIFp6IiXTyF/E0cSntncHqD3OQEBBuTT/x3/R+8jEvk0OFtHRTPxy2TW+97F7tSg6f8nzKmCnxjoNAApD+gS23LFYDB2z/s/6nPUQyX1HT5+KeByqGPxwqAJTI3H6Z6OXmXHG2nsFoRvfo9PxUvctyS8xuOXR2YLvbgMOf0CPst2C/lvfo+fIKJ914G8zXhpYkLLn8LJp+A4PE41Gam4jU4pDz1VA2eZsO0eLAgoNZoQDBmSkYK8x0Fq1MDHTTSkU1hyCbxlwORKOOVa2K9wuLEVpDFAU8ijFeeRrjTQ3PlgjsFgfO28fwUNYNDg8Zs//ozDsxsMwiblUQellAHZauz8wgKnI2P/dz9CvLhDp7Sqg3dcr2F9Ao4HBp0RpFYLNd6XQLuHWkWDw3FwjBFkXUfFp1TtXg0VzQHHOTBGMnS9gvU6d4ROSYKjGNj1WGUZti6DP/4RX8QL3HVKb/MC+ZGJpqKhBw57loWkLCG5x6Mis61aDAZjC152CfyZuL+kIkBAkS7vg49uzg4p8yyOWq6TEnBIK6Mb90nNgA7Ll3Tn/XR/WSRApPb0B7qjixxIvHB/GLYLhPIVzXyX7i4oB5Hcx0NqF0Dlq/WeTeO+StnyJQ3XvrlLhnRZcB3ADtU+vTl/rOElFQ9AufNbN+2355QFCMVLul/3LYPBYPj4OhQ0uYoYAGWnbrtEruJOlEOeuztLAakJEHBC10vfuaercsIdSPjT1FcJAIlt78ebMzpEzlPAbrgZnzK7OTsk5C5cBX+jUgIZUte5R9+1qZBVqf8atMi4TyeH7mDmZL1b9yvCKz//boBhm8RwvWMwGIwN+Gr2QadLpyj+8Xf48x8a6JWayMeBQesUltKKWJdewqAJuZdGS+EBp4dT+TuY/CVOSwKE1B5svYTT+ClaUeuT9gC9LwCKPBb8w2wdpWYSzYqNxscvQFlG3pcmx4lySfoJv+dT0KUKKsY9zFTIPv/T78GndEiVCox7E+HHvsjR02qo1C2kyiWYrQbMDcWxORzyNWnzozLjPE6bKoyjOr6XGpAdZVFmrxG745VfHrxny55YJrpIQE27uR/1akh/Z0K5NV9sGYHBYLwRXnqE8JwEZtH3V1ROFLeYPd/RRa5Mc0vxDamJBKkBc/UtnefKdBUxC72/Ki/O4H3pKl7e0/CyEJwpE1G0aXxMt5cqFbMZOgAIyHqz6enjW7pUi5TNHLh7rrMX5H+8yJCu1RxlX5VJ+Y4uxAypr2JKvxnTMhZ9hXGjJgjw15sx3d+/HikzGIzXy/veZhUiXTpFEcCnPzSgNU9h1mqRs2e7p0BOx5CUO3CmPw46aHDSbGYE24L5RUI6MFlOgc+b6JjhbUITDHofASSQT4emTbYOTUtDEuZT3BTnS9TEREcHEuVTyGnA6dUgCTVYvIKWYcK+PUcWFhwHABz0ahKEmgVeacEwbdyeZwHLmecjkiQEpQMNNci6vfLN52ECUyuhJ+tQ+G0890bo1TjE+KZ3zOfzMpm45Z5KTSuFjUHvCyAKSMUnMDUZAs9BehUyZjAYr52vSkFjL4+KegjgI+r1FE5L0YZTLi+DB5DOpzFVle5BGHuzrVET20RXFFzT8cTBwHI752SSg2mFO2D3kAxAChwRObE7qMjH+FGSkd8DkoKMIgDLnn4/gnGqQE+p6GgSknBgtn6ACQ7JqQnVsWBlFOR5AI6J1g8mwCU9b+EJHMtCRsmDXyucOHilCUHT0NtkG/IOsfUSFGhobrXPCgD2kNcGuDcqL3LzVDKdRw7AaOQeZGLrCpRPQDafBmc2ULLzKKW/wBrYeGERMxiMt8BLT+GfHc9p51Bd4Uo9vKQCDgLm6/urMkHtz/6+UROU8F64vyzOjpwctkXfe7d0IWbnpmYk6EM26x7x+SEx+63qOztyfHNOxcwHylWrVMyKVD6/pqHPIjq+bVNVFKl8ckYn5QIVyud0PbOIj+m2XSVRLNPJ2QmVCwX3+y3Ec3eR3cjje1eM+yplC+01Jnnf+/f3rll+3Ce1kKVMIksv6Y91d1Wl3IccFcsFKuayBCTopE9E43u6v7+iKhJUjloDYTAYjBBfxT7oMJPRCJP4HvaWbUo1FcSOdGSLFaQnPaCko5HUkW6mYDTzgNWBVvkdTP4SSsqApgCndgNCHBg00mimDDR3van6HTKxWihVHNQ6CjaybE8M1FIdSFYD8UYKraQC/F4BrqxXIf9BI43f/JHH1dh1SoSpISnZaA0aEJJxtieawWCs5qVHCK+Ru4vscDEh8QAAHchJREFUbJvSsC16/7+hs4zf2SeKWzrP7fDCjffMXZsKBwXfXu813N/QWS5Biap7kcX4/p7ur6qERLST3q4Z35xRNgHKTR3E7i+p7G1/mybn5uyQEuU2tU+yq/fCMxgMBn1lTmKbMYJlfsJBPg0OgOPYgDXCCGlUGhxajeWXOdi6Bqt2ursLN94rExOa3EBab64+3nMywsgeoNMsQUj9Bn/8CZAlHnEA8b09WAMdCUlCOv78l1nE91JI8znsDXQ0aiUIUgdc8wY9hZ/5LSS5FDBooZfUUHkT+8YYDMZL8lWauFdjQotJsK8sNPMT6NI+askrWM38qzw7++3joCOn8bsfv2z/aaKKa29pARigkc7DUhrYazqQjdrb2DvNYDAYS/hqDirZnDjihwCX3AMcHbqZxWmPKefdkYSkOyD98eFwKUBv9SBrTaacGQzGm4fNoCOwOyWUeknwIwfJWiN4SQWDwWAwGM8AU9AMBoPBYLxCmJMYg8FgMBivEKagGYxdMBmgIZfQmR0KZ6KllSDEYkjma2g0mjBWn7+6YTwmNKmC3lOExXgUdq8GWZvv8rB7DdSkFGIxHiWlgYY+WLoDZKt49BKk5tOExXjlvOQeLwbjfTKm/klm8cSwuzaJSFDxEfebju9v6KJcDez1HvdVOszNL0QZtkVKfMi5p80VDgk4ILF6RmcnRcqwk8x2w12bxMwZhbe3909AOFj8fXPGdHelUuHcH8KQ2mKCTtiBC+8eNoNmMJ4aW8epLqAkBJ0LR5aBLjjwqU3vNw18DbPVQOv0FL//6GDimz7FeRk1KGiaAGCjpwNar4emVoOcdoCEjJpWQ03TUBPT4JffPcp4EBMYTQWoSaHdAwOYPSCRT2HbU+UBAHYPjUYDmlaHETi8PQmpVkKr0QG7duV9864VtN3KIxaLbf4vWYPxXHYjqwVZEMBzXtwcD0EQIDSi7n5mvCVss4OBnEc6dGCNPegACQnhC802Yw98qYaKHHXtCQdBTuF7wwRsEwZXgXsluXubVkISvLSMMIkLeND4gLGCAXrfpyDxITXs2DA/A7yQftg2TS6PWq0EIeLjOJ+H3NVhsqWNd827VtCcrKCaAIAMTtrXuL5e9u8KZyKQ02rPdwpYqgTd6OA0DwCHOOuYMAwDRo3t4H1qJo4Fe5fXR40sWLOOcgLb7CKd4kJnbXvK8qGzqTUkuTRg2nA4Ga2Gt2/fMdH5BKT5lKcgUijpyvzK1JfE0SHFNJg7CXwEy9ql5prAsXw3ktkWzEQaXGjgM7EM/IgDCLsYEcU5pLNd2Cun0Ca0WAza1kJ2oEu+7xwdUkyC/ioGA6G0PTY0XULsMYGZ2myCJ+1AQO9aQSMuoKblAPyMjr3nzlCj/qVGMMwqatIuus5VWDA+AkjkwTO9vBtGPdT2v4XU2pVlYoCG8C2+VTpehz2CYwN74ZtYRhbMT0BamF9hipGJ1hM5DsXjSVdB+36bWCa6yCzO7F4cB3pFhzxUNrgGdXsGDQHffqugs6NB2ahXw/63EmZVynHwCYuX71gDA0jIAYuJ1Xsi50DEEd8DBs6qwHgoRFB2IWQGAMA06hDbQxAROvLTD8Tet4IGwEk1lBPAP9Q1dCLr8gRmS8PktIJnvwDJttwZRJ5/kfuLN2FktqAP3q6/6GTQw0cAfGpHErYH6HwGsrNZ6hKsATpIQEjNlaXd0dCLJxGfOBgYhmtBifpnPUzTDEz9ESb1HWK2cMwr2EF/BsDGwC0Q7GapfYJB7yMAHqurlAPL+AzwaaSmintioFUbYS/p+iMsLW9jAOdJmlxwBu3okm9Jb9mM2IEu7eO4C9SPgrNCu+X7XtIR/NyNa/Z8zaw0mBa/JWVx1u/okhdfRNqmlhjfTNYf9/zbxfAdXcK+G1hEftal1Z3JH9WB7vF+KA9PyEt7qT0HN2cZAkCHUVcI3V9SMVF9kRuQhpcFAkDixbornIZ0fV4mMVuk6kmRsh9EOuuHPYSvqJrLUqHsPj+/GYceVymXLVC5mKUP4jndbOQAek+XxZe6X3lFnu+uqCoWScwdkHh+Q9OsjG/OSMyeBMry5uyQgCJdzn4bU1/NUS6boYNim/rXZ/9/e2cPo7q23fH/SInEk1LMrcxRFA2pDkkDSQOnsvMUCW5lXoVPkcBTFMGr4CQFTDdKY9/oSXCLaJgKboVPEY2p4FR4lALfanyqocPd+FTQQbdS2IBhYD7OHZiv9ZNGGsDe3ttf/73XWnsvyskFKuVEEktdLxL6AeWPuwUCYivZqQaVQFYrn1FTJAg5WgRw+9m7HhzQPVAJuLnftF9aZGDzW061GEgodOmuW3s8OKWCLFOhlCMxVaHT0xq173eDfAfX1JZBgdTqy3pcnZOaE0kuVKgkvyex1KYrL9k3XZ7mSM6mKCGWqHu9LOu8IJLcDNyg4y4V1p/10TnlUiKJRyKp3QG1SzLlSiVKLZ6TB5Tvn1fkzpfnddQmGRXqBxsz7VMJoKNFPaY0UBN0dFse+lvOl3BjvxE1xbsiuQekwj/XA5UAlRanff3zhmMurtF1m2QgkOfeK1duX698Xl5Tb//l72ult+WVY69+Xi/L/11u+3ntt9Rt7fd5XVf3vVn+dVsOtOuhdSUaqNvb+Ri8CYGm8TnlgLUXtcdlLUaJJ8n9N6V+CTde7jc3G5CaAMUK54uX7/g8R4AcSM04omZqKfTX7Syh0F0IC42alIJM3s/X1M6CCrfnzfQPrZJYOKfd3X5bD3xLm0fUTMnUHI3981fxHxb/fAoqDWhK/YpIopigI4AgvCdR9AR4PGpSKndO1wOVAJCQbXvH8F+oYvP/7lE+0VUzS6Io0nsBBBxRQhRJlE/pkohGbZlQmb+ur6hbq1AuAQJSVKjVqFbK0nsBJGQfcm7HNGjWqFZIESBQqlSjWncpx6OmSII6IKIRdWs1qlWyFAMIqQLVau2tHbLr8xwdIUWnnhLS1alIACi3/qA8GgNSIdP6O23UzpKAFNUuF8k5qRYDva8MaNwvUaLSp/FVk0SA5PmNP5p/via6alJWFEl8LxAAOkqIJIqeAPcrCVIvR96LGwlS/Y7eqCkSUKIvX+5R/rRPFVEkMXHk3TfvRRJFkUrdMRENqIIULTKNDppUK6VIACiWrVCtVqFC6oiAI3qQPo+6VKtVKBsDIZGjSvA6TvtU2nAeb57rLQJ9K5tEcPVYA3VNBNdF7rpN8sbj3RTgVUH/HoFeOw+Btv42gb6rrizQj4Y3kgKJweHg+JxyQuHho5jHqRGpgicA/a3bjKlbELyOxY0bMHBjXNYotnhBeOUm1MFCoC9rseXo6lIlAQlSB3cI9KhNWVGl9YH67rmjzX+uU1bt03Tap4qART7oxfkMjmz83nVwNHXdLVHhfERXTZGAoHXAexjx+yLJ9y2fBhu+I69DJFTu+TJ8DEbUTB1R5a5rus64S4WVNs5HCDu0mmx6cV/WKAFQTF2f6wsC/ov+p5Kj9oho1EwRAkLoWaDWrBeqsNYRv6RTsUaDsdcBC3ZcvbaC/v1f7l++t896p3pK/YqwFPY9MO1X6Ehu0+1HDArM/Hx6f7cMGumhAj1Ql+Wu/m0Q6E2CSkGh+x6BXjtO4Bi/SaDvrOvuBfrNZLOK50+Q+/QH/PKnOnr5BtIhwG6dYFhtIfO9vjC7AaUXR6uaBNweTpQfYSXPcZKXIEUP4eh5nIRO0NoUfObY6H0DkEvezLzk6Mg3wmgUHdTPvgEFBelAHV13U8DTF/wxGYWeKaJojmGtO+C+/BHJqI5MsQhzbN3in3PQ08ooHg8RLeRhteo78K1EkC5nNvvdHeP2Nv91FroSxsws46dvQCHt5YOen8+gL3him+hAQCUQgRdO19HABL3iBSCoS/+s43jt/JsUWlUJuEf5sC3o3wA5vTaNJqKgqkTQ6lWR3Edgg22gcahBf2B4tmPUcRZsI2YYWp3V8/LYOA46AKqLL2YwdQ2/QsRpJvgkuHAsAMJf4h+1FpJw0Gp9AcRTeDFvMwzNzwAKAV+wDcu7IIgvTnscRTMO2HUUAchSfBFd79gdADH8/X+0oETuU/4EttkBhMpaUGcIUlGDljFgK/tIczpBr2WiWD15wIyAMBSDoACwtAN8+HCAY8hoXxuPEwugDkAcjfbovBmBxmEG5VoMv3w6g9YqI604aGhxVO3vfZwctKo28kbRe+DDYRwOBaTrGUj+Ax1RqkimNfSkxo0AtMnQwgU2BxfZhgYkTUzsBr5g9aWyfHHEltM34kXo5zNodQPm2Sf84cxAc2QiH5n/rON8pqFumDj79AecGU2MzPyWhzuCdLWBFvI4gYRiOYl9zspx7d492jyDZfwMoICMPy/OO58C1ICyDM0zAAVINy6xHz1fiC9ept4iIkBKiuMQM5j3KN8ZmvgKEcX4+pkMQdJ6sJUyjPhv6ADeh5kFTXNwopUfOH1rgqH1BYCM5CKKaQhLB5CJ705kIhHIK8trDGG1vgFCebVTsOjARr2OnGOidQGIp5LfsRvCNgHI0nK+uTOE+RUQi/Eb52J5reYXw1tEBILkHfc+5S/uG+nm+Ynk0dCKKGs29Gp8p8+Mo5ehJxtofed8uWSVQFUv4Eo3XSi/UaEjERnQHbhI4s6SwhEk4U8PW2zsd8a+e7KBBccFkvPyHAcdJFH9rc/dTur6QHY2Nn+OLHzRBVLVxJpJ7YFc1igWDMAZtUlG4Uaw2WUttmFpxbn/Wbhpahq1KSt4Jrp5EFkluM20TyUBJPi+4etuiWQxYKa/OiVxUe41dUvyih/56lRc+FFvxwtq2afZjuh+bV6Y6+RlUNSg4l3X7vSKmnKNBuvBPFfdpc/2skaxoK9x4V+en8f7lD+mbgGEmL+M43hAzfYyoOz5c03n2aCPnQI+111e83UftO86WDPXeubmxNKU7Ls4Fq79kee+EE+vaNytUK49WgvYG9OgOffZ+tdKuNnWRfzJPcqf3zdz//xVt0bd/T4eD+QWH/QW863/44NM3DeDxjaZlmn1t62BV6tBXgvX011BYssvVgPUBqoXu3IdPBYHiT1TpjRQY75/JLfF9zylQU2mlBijo1KXxjSly5pMKbVPo26Jjnz/3PqFnfZLy5fM9Jour7yH+Lotb4ge98UDBQrGak1H51RIBPxkfodi+cIcU7+SIGHhG/ZeskLAVzztl0iYrwl8fU5ZCCSqA78jMaV+SXhAUNwl1WI3Ox075c42e991C1j61cddKgm+oF7WKJY7p7H/4HqBcyNqZrOLoLqR/5Au4hGuTikVCB66V/nzF0el79cxFdj/ZeCJ4PweHFE7K+zW/0xEm6K4L2sxwvsKzV3o06smZYUjTxSXG1EsIKBXpylfUK/pPOeJsucL9WI6xv0KpRb3/YAqCD5vY+qWhGWA4D3L917OfrDlqEnZ7F0+4Kdm1d+67iu+zQ89FzKog3sINC2Fcv63RZxvlL/JV71SlkqDgbpS3qa6qWqgvLWGBdsttwebBf6WALrb6soC/djMA4e2jZ6v25TNtum8FiNBbtPIF9NUc0Q0HVAllqDTK396TeBGuFSFxVSI8XmOSv70h1Uhv6KmvIwEBQR6L3rRoPPoU0BY7EtENL08pVziPaVKJcqJMhVO+3QdFPWrNpVk2UuMUMhStnBK/cX9MqWrdolkuUCVWoUK2ay3/wNO16gp3ivi+zG5q81ERNNRmwqJI0oVKpTLlqjdrlHqKEFiKucL8Zj6aoqOUjkq5CrUvloTXyFFWVmkbClHqVSBmmvienf5Uxq1c/Q+kaVCLke1/u4e0t0xom4pRe9TOSpkc5QS10aZu2Lthbuoh5ijUkEmMafS+eV6Z8e7nu8TWSoVspQ7Padm7j0lxNRCiKejNuXeJyhbyFGuFrjPffFNyFkSUwUqZUXKql0aTR9WPo37pKaOKJUrUK7SpquX1R97ndxqCXj5vD2BJqLpeEzjrZozpfE0IMrXbZIX0yNG1Jb9EWXAxD2+OqeKCBIr59RtlkgUSjTX2M0mbubp2BJ5/ebxrTrB6Xk745ra8v5eqpsjr5lXwSsX6Fe/ktgmQoc3l+UL/IpD14bx1VsicTa00BHSiEcATIYwZ/4KRXEJeduANQMOoxloJsHUMkjn6zDdur+m9xBWT4KyabV75mnYFnn9ppjBrksIH6TR8uO1JkYD2tcE1Pw+ggLDUBoK9He7Wos7yDzympfTZV4eb1Kg72TiYogIwoeA6zqA///ENODmJT+AL45iPYJW3dq6lrKjaxiWT/aXgIO5FUfPQ1I0fAVgneSRbrzVzGEhHEbjSKYOYet1lPMSMkYEjcseqsk9dVvCCgzazVrcC2YWNCmN4hmAbzrKUhm9XSZNYfZPWIFBjzRV7BlyQET01JV4fgzRUjLQw0VEJzYmrotQWsLMieBEUxBhwWUYhmF2DAs0wzAMwzxD2MTNMAzDMM8QFmiGYRiGeYbsVaAnVh2KZj5Kgvp94BpFFHXn7g0ZhmEY5pHZm0DPLA3pMlAtSyvTOGZmFZIkIRr2EmKHoxIkSULR2JY+e3+EM1VIRhIZFmmGYRhmz+wnSGxmQ5PyQMNGdeNcRBv1+D/g09cczsctZPY5QXU2gWPpOKn+CeE6QVuf9zExkP+hhfTIgLKvBdIZhmGYN89eRtCucYLjwzKUbQsF+FloVtPE7R67IUFSqqg3Gvjl1y0bHaaRr1j4WA+a5l3omQNo81UWXB2Zgwz0ew76XT2Dg4yOJ7cRuDoyz6EeDMMwzA32INAOeq0O5MUCHzeZORY6AGJSdG9ZvAAgXjRhGg1UN+VrXhCClClD+FmH+VKc5/clrKCh6Cjet2fBMAzD7I3dC7Rro/clBim6XQSHlg4ASMef6Vp80TgyOINtA97o+R0+doDjDwfIBMTNaWVwcOD50h8yQra0g+V+Bwc4mA/NLQ0HB6vLIa6Pvl09cMyVUbwF7UCDPv99S33CShXJj8V7j/4ZhmGY/bB7gXaG+IwIwluXYnNge5nZn+9auYdhRATA8jN3K8Y12jKgDgjGYo25Do5RBRGBaAC18/FeI1NLO8AHq41rL3EJaKACxx8883lSgopjmAuFdmHqHahVBWF44vxOVwL7JvFxZX3jY3x0/DoZypZk6klIage6yQrNMAzznNi5QLuuDSCKyDaBdm30LgDI0l79zw8jjEgS6Di3iZiMdn4eYZaEpAId5+7o72R1TTyTEtTlr5BU4Hiu0K4JvaNCSgKAhdZHoN0I7lvFQD2GFugYqNLdqx1HIjI6usm+aIZhmGfEX+z8CLPbHbezoYnPAGJS/Ib/eWZpyA8z0PPRG/s5vTqM4T2OH4pDKUpbRo8PZIcL7bt6Bu8+dhaf5yKdlFRAc+AiibDjoKNKMADAdWChg+N3B/i4Vpbcftixw17vA559gGEYhnkO7F6g72BomwCAZHRdhCfoNXQky9WN+0XSZZTTO67cHlgKs4oBGUjCgnbwYblBUoLa0WC6CiLmMVQpOCtORvt6WyaXB8zdjkQgP2R7hmEYZufs3MQdjkQBTDDZOJB2YBtfAciQ4qspomZWA5qdh/Qs/NIzzCaAGHlsG7zvUx4QaGvqvbmPWId5PDdvAwhHkEQH97Ci343joHP3VgzDMMwe2X2QWCiMGBy4mxyckyGsCwBiGvHAKHBi1ZHJHCNUTONZ6DNcDC+AyPZIt9+EtfBtu9AzH3C89ntSUtH5+BHHqhQQ8STybRnHH4JBYRa0g8D87HviOhYgR/Y6xY1hGIa5nd0LdDSOtPAF1jAwhJ70UJUkSMk8zgDgQkNe8pb4TEYO8MOHT/jyLYV8+qbv+TGxG94xpbI3fvwpE4UkSSj31noTzhAWUpAWUWxhSIqM4w+BKVHfRRhKow18fOdPk3oHp+pFiB+bgXL9wLH1gK+wYmCgHuPDYprVB2BAqN4dF7baPKcDWXkkPz3DMAzzKOxhqc8ZzGoE/wQDdGMdzZeBq2fwrpXBqJd/olGmBe3AhLTVDP5cy2YYhmG+lz2sJBaCpFSR+KmF3otcictBr2WhUEw/nQnYMtfM24+Hq2uw2nkWZ4ZhmGfGfrJZxYuoqzaqDXsvh3tMJj0NJ4d1VDNPYQD21vw++AAMHmq3vlfxOoq6gsbmMHCGYRjmCdlPNisAgANdUWCXTWjJ0N2bPwccHUreQdmoIvlsF1FhGIZhXiN7FGgAmGEyAQ4PX4hAzyaY4BAvpboMwzDM62HPAs0wDMMwzH3Yjw+aeXqcHsqKBmseqDex0NLykA4OEE6XUa83MM+X4eh5ZBo2XmRMH8MwzCuBR9BvAgd6RoF7YqEcXPnF0ZH52zIOz220VoLgXOiZOOyyA03y7PuWFoZipJFR4pj1PuHMFpHLZxCf9aD9PMHJlYXibqetMwzDvCl4BP0GmJkNVFFGZm1ZtsnQRAcRJKPrUdxhZMp5tOqGt0L3zITRyqNltlAvK0gfAojncaKVUa6foCxIuCXdN8MwDPMdsEC/AezeT4hmkjfmcTu2AQgZxDeMfEPJNJSODssFYNsYlhVIIQCzIczPQGJe3myGSTqOCAfSMQzDPCpPns2K2TUOhpaAeHp9lOzA7n2DkI5uXoAlFEFc9JNxJMsw5tOwbQs6BOTnQ+aQBK21s8ozDMO8WXgE/epx4V5smNrmJyqJS/HlGtwTCy19HhwWQugQsNeynDjDHr4JmRvZxxiGYZjHhQX6DpxeHb3XmCp5aMOAACngPHYMDb1QGNul14VlXABJCXFeuIVhGGanvA2Bng1haHlI+TLKaQnFegP1holNGTBXsWFUh3iaNE8zDA0NeSmPcjkNqVhHo96A6c5gN/LIKGnEk0UsEm+5BopSBq2h978SPkC8bgMIIyJ/w2SyWro3Ek4vg7scHdWTEJRkeHH82URA5DCgxBMbZgdIpOOc+YphGGbHvH4f9MxGPZ2GFm9h2ErjcNZD8Xc/4lOsBql4e4pFR9dg5Ksw927NncGup5HW4mgNW0gfztAr/g4/forhv/9qiP918uidOMj83R/RMKtIKxG4lo6zi8lK/uyv5hBOWUEkCrQcB0AEwBC9egu6fgF8C6Gn1+E4Fhr6Z0ykc9QX+uzAvkgiGQ15pu+WhcmwhzMAMbOF+kxCpvyECUQYhmFeO/TKuawlCEhRczT/ZkCqAEKhS9Nb9hsPVBKzbRrdss3OuKxRAqDUstI0UAUC/o1++s8ctUdEo2ZqpV2DCgiCSgN/+1FTJFT6REQ07VdIkB/Wlmm/QkcP3IdhGIZ5PF73CHpmQtd+BcRTJBem3CF63wBZim/2tc5stIplVH+ZQapkYNTrj1+vUBzK1tH7DKau4VeIOF1WGsPeN0D+Z/zrnxWE4aDV+gKkmpAiAGDD6gHIxFdG0Lmk9ykkFaFpGRi2srpQyVYm6LVMFKsnPEJmGIZ5Il63QA9t9L4ByEcxn+rr2j1cQMRpfItxOxRHvt5AKFSEEVdQVvYtUUPYXqURXVYavQtAPPV9v46J1gUgnvpzkV0H1ldALkf9TocLyzhEuj73H0eQb2goljXYehV3BWA7ehl6soHWS8k6xjAM8wp55UFiM7gA5Hhk8XlofgaE5MbFORYcRqE0WsgYCqrW/leknnmVXoxeZ0MTnyEgOa+06+ICWH52hvgMIDqP+JpY6M0yS6sBAETSaBh3izMARJQW9OIWCwPDMAyzF163QEeTyAuAO/FEdmbVUf0ZQEbC3ZbeCJRGFW6xAXvH1VwliqRXaW8+8sxC3as0pHmlw2GkAEz80GzHsbzv/b6EY7RwWM6weZphGOYF8+qTZczsBvKKjpAUwcx1YXe+INoewbiX6XoGsyxhWNxzIoiZjUZegR6SEJm5cO0OvkTbGBmKL7ozDFtl5E9sRNMRuKEMitEetLqLqBQC4ieoF+PgqcoMwzAvl1cv0EEmvSJ++HGI0yvz5WRemvRQ/OFHDE+vYL6YSjMMwzC/lddr4nYN5CMHOCibvqnYRqt+BiFbRPrZ6pwLIx/BwUEZpldp2K06zoQsis+30gzDMMwOeL1R3IcRJCUR7sRCo6rDtFyElT7s/O2Lkzwth4gkJYjuBFajCt204IYV9O08pOdbaYZhGGYHvCkTN8MwDMO8FF6viZthGIZhXjAs0AzDMAzzDGGBZhiGYZhnCAs0wzAMwzxDWKAZhmEY5hnCAs0wDMMwzxAWaIZhGIZ5hrBAMwzDMMwz5P8BROEBcGKqLP4AAAAASUVORK5CYII=)"
   ]
  },
  {
   "cell_type": "code",
   "execution_count": 12,
   "metadata": {
    "id": "fFWwT-LtBu_-"
   },
   "outputs": [],
   "source": [
    "def mlp_gradients(mlp, loss_function, x, y):\n",
    "  \"\"\"\n",
    "    Compute the gradient of loss with respect to mlp's weights and biases\n",
    "  Args:\n",
    "    mlp: An object of MLP class\n",
    "    loss_function: A function used as loss function of the MLP\n",
    "    x: A numpy array of shape (batch_size, input_dim). The MLP's input\n",
    "    y: A numpy array of shape (batch_size, num_classes). Target labels\n",
    "    \n",
    "  Returns:\n",
    "    gradients: A list of dictionaries {'w': dw, 'b': db} corresponding to the dictionaries in mlp.parameters\n",
    "        dw is the gradient of loss with respect to the weights of the layer \n",
    "        db is the gradient of loss with respect to the bias of the layer \n",
    "               \n",
    "  \"\"\"  \n",
    "\n",
    "  gradients = []\n",
    "\n",
    "  ### get the output of the network\n",
    "  y_hat = mlp.activations[-1]\n",
    "  num_layers = len(mlp.parameters)\n",
    "\n",
    "  ### compute gradient of the loss with respect to network output\n",
    "  g = loss_function(y, y_hat, return_grad=True)\n",
    "\n",
    "  ### You'll need the input in the last step of backprop so let's make a new list with x in the beginning\n",
    "  activations = [x] + mlp.activations \n",
    "  \n",
    "  for i in reversed(range(num_layers)):\n",
    "    ########################################\n",
    "    #     Put your implementation here     #\n",
    "    ########################################\n",
    "    activation = activations[i]\n",
    "    weighted_input = mlp.weighted_ins[i]\n",
    "\n",
    "    g = g * mlp.act_funcs[i](weighted_input, deriv=True)\n",
    "\n",
    "    db = g.sum(axis=0)\n",
    "\n",
    "    dw = np.dot(activations[i].T, g)\n",
    "\n",
    "    gradients.append({'w': dw, 'b': db})\n",
    "    \n",
    "    g = g @ mlp.parameters[i]['w'].T\n",
    "    \n",
    "  return gradients[::-1]"
   ]
  },
  {
   "cell_type": "markdown",
   "metadata": {},
   "source": [
    "unzip grad_test.zip"
   ]
  },
  {
   "cell_type": "code",
   "execution_count": 13,
   "metadata": {
    "id": "CXwripMB_a2L"
   },
   "outputs": [],
   "source": [
    "# Test your implementation\n",
    "\n",
    "import pickle\n",
    "x = np.load('grad_x.npy')\n",
    "y = np.load('grad_y.npy')\n",
    "mlp = pickle.load(open('grad_mlp_test.pkl', 'rb'))\n",
    "expected_grads = pickle.load(open('grads', 'rb'))\n",
    "mlp.feed_forward(x)\n",
    "grads = mlp_gradients(mlp, softmax_categorical_cross_entropy, x, y)\n",
    "# for item in grads:\n",
    "#     print(item, end=\"\\n\\n\")\n",
    "# print(\"=\"*50)\n",
    "# for item in expected_grads:\n",
    "#     print(item, end=\"\\n\\n\")\n",
    "# for eg, g in zip(expected_grads, grads):\n",
    "#     w_diff = np.abs(eg['w'] - g['w'])\n",
    "#     b_diff = np.abs(eg['b'] - g['b'])\n",
    "#     print(\"Max weight difference:\", np.max(w_diff))\n",
    "#     print(\"Max bias difference:\", np.max(b_diff))\n",
    "#     if np.any(w_diff > 1e-6) or np.any(b_diff > 1e-6):\n",
    "#         print(\"Weight differences:\", w_diff)\n",
    "#         print(\"Bias differences:\", b_diff)\n",
    "\n",
    "#     if not np.allclose(eg['w'], g['w'], atol=1e-6, rtol=1e-5):\n",
    "#         print(\"Mismatch in weights\")\n",
    "#         print(\"Expected:\", eg['w'])\n",
    "#         print(\"Actual:\", g['w'])\n",
    "\n",
    "assert all([np.allclose(eg['w'], g['w'], atol=1e-6, rtol=1e-5) and \n",
    "            np.allclose(eg['b'], g['b'], atol=1e-6, rtol=1e-5) \n",
    "            for eg, g in zip(expected_grads, grads)])"
   ]
  },
  {
   "cell_type": "markdown",
   "metadata": {
    "id": "RDLsSI2s_fxU"
   },
   "source": [
    "## **1.5 Optimization**\n",
    "\n",
    "Now we should optimize these parameters using the gradients in order for the network to produce better outputs.\n",
    "Gradient descent is an optimizaion method that iteratively moves the paramters in the oposite direction of their gradients. Below is the update rule for gradient descent:\n",
    "\n",
    "![image.png](data:image/png;base64,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)\n",
    "\n"
   ]
  },
  {
   "cell_type": "code",
   "execution_count": 14,
   "metadata": {
    "id": "LuaJSvCD_diJ"
   },
   "outputs": [
    {
     "name": "stdout",
     "output_type": "stream",
     "text": [
      "loss before gradient descent:  3.7479043479339964\n",
      "loss after gradient descent:  2.9432739364533704\n"
     ]
    }
   ],
   "source": [
    "x = np.random.normal(size=(16, 10))\n",
    "y = np.eye(16)\n",
    "lr = 0.1\n",
    "### Define the mlp \n",
    "mlp = MLP(x.shape[-1])\n",
    "mlp.add_layer(16)\n",
    "mlp.add_layer(8)\n",
    "mlp.add_layer(y.shape[-1])\n",
    "### compute mlp's output\n",
    "y_hat = mlp.feed_forward(x)\n",
    "### print current loss\n",
    "print(\"loss before gradient descent: \", softmax_categorical_cross_entropy(y, y_hat))\n",
    "### Compute gradients of the mlp's parameters \n",
    "grads = mlp_gradients(mlp, softmax_categorical_cross_entropy, x, y)\n",
    "### perform gradient descent\n",
    "mlp.parameters = [{'w':p['w']-lr*g['w'], 'b':p['b']-lr*g['b']} for g, p in zip(grads, mlp.parameters)]\n",
    "### compute mlp's output again after gradeint descent\n",
    "y_hat = mlp.feed_forward(x)\n",
    "### print loss after gradient descent\n",
    "print(\"loss after gradient descent: \", softmax_categorical_cross_entropy(y, y_hat))"
   ]
  },
  {
   "cell_type": "markdown",
   "metadata": {
    "id": "5kXiyp6EAMmw"
   },
   "source": [
    "Now let's implement SGD class with momentum"
   ]
  },
  {
   "cell_type": "code",
   "execution_count": 16,
   "metadata": {
    "id": "tq9grgJG_7AR"
   },
   "outputs": [],
   "source": [
    "class SGD:\n",
    "\n",
    "  def __init__(self, lr=0.01, momentum=0.9):\n",
    "    \"\"\"\n",
    "  Args:\n",
    "    lr: learning rate of the SGD optimizer\n",
    "    momentum: momentum of the SGD optimizer\n",
    "\n",
    "    Hint: velocity should be a list of dictionaries just like mlp.parameters\n",
    "               \n",
    "  \"\"\" \n",
    "\n",
    "    self.lr = lr\n",
    "    self.momentum = momentum\n",
    "    ### initialize velocity\n",
    "    # self.velocity = [{'w': np.zeros_like(p['w']), 'b': np.zeros_like(p['b'])} for p in mlp.parameters]\n",
    "    self.velocity = []\n",
    "  \n",
    "  def step(self, parameters, grads):\n",
    "\n",
    "    \"\"\"\n",
    "    Perform a gradient descent step\n",
    "  Args:\n",
    "    parameters: A list of dictionaries {'w': weights , 'b': bias}. MLP's parameters. \n",
    "    grads: A list of dictionaries {'w': dw, 'b': db}. gradient of MLP's parameters. Basically the output of \"mlp_gradients\" function you implemented!\n",
    "    \n",
    "  Returns:\n",
    "    Updated_parameters: A list of dictionaries {'w': weights , 'b': bias}. mlp's parameters after performing a step of gradient descent. \n",
    "               \n",
    "  \"\"\"\n",
    "\n",
    "    ########################################\n",
    "    #     Put your implementation here     #\n",
    "    ######################################## \n",
    "    if not self.velocity:\n",
    "            for param in parameters:\n",
    "                self.velocity.append({'w': np.zeros_like(param['w']),\n",
    "                                      'b': np.zeros_like(param['b'])})\n",
    "                \n",
    "    for i, (param, grad) in enumerate(zip(parameters, grads)):\n",
    "            self.velocity[i]['w'] = self.momentum * self.velocity[i]['w'] - self.lr * grad['w']\n",
    "            self.velocity[i]['b'] = self.momentum * self.velocity[i]['b'] - self.lr * grad['b']\n",
    "            \n",
    "            param['w'] += self.velocity[i]['w']\n",
    "            param['b'] += self.velocity[i]['b']\n",
    "\n",
    "    return parameters \n"
   ]
  },
  {
   "cell_type": "markdown",
   "metadata": {
    "id": "yDdWWKmAAcNZ"
   },
   "source": [
    "# **2.Classifying Kannada Handwritten Digits**\n",
    "\n",
    "In this part of the assignment, you'll use the MLP you implemented in the first part to classify Kannada handwritten digits!\n",
    "This dataset consists of 60000 images of handwritten digits in Kannada script.\n",
    "You can check [this](https:https://github.com/vinayprabhu/Kannada_MNIST) github repository for more information about the dataset.\n",
    "unzip kannada.zip"
   ]
  },
  {
   "cell_type": "code",
   "execution_count": 17,
   "metadata": {
    "id": "FhUmsc5CBg9M"
   },
   "outputs": [],
   "source": [
    "import pandas as pd\n",
    "import matplotlib.pyplot as plt\n",
    "train = pd.read_csv('train.csv')"
   ]
  },
  {
   "cell_type": "code",
   "execution_count": 18,
   "metadata": {
    "id": "LntWZdeJBk9y"
   },
   "outputs": [
    {
     "data": {
      "text/html": [
       "<div>\n",
       "<style scoped>\n",
       "    .dataframe tbody tr th:only-of-type {\n",
       "        vertical-align: middle;\n",
       "    }\n",
       "\n",
       "    .dataframe tbody tr th {\n",
       "        vertical-align: top;\n",
       "    }\n",
       "\n",
       "    .dataframe thead th {\n",
       "        text-align: right;\n",
       "    }\n",
       "</style>\n",
       "<table border=\"1\" class=\"dataframe\">\n",
       "  <thead>\n",
       "    <tr style=\"text-align: right;\">\n",
       "      <th></th>\n",
       "      <th>label</th>\n",
       "      <th>pixel0</th>\n",
       "      <th>pixel1</th>\n",
       "      <th>pixel2</th>\n",
       "      <th>pixel3</th>\n",
       "      <th>pixel4</th>\n",
       "      <th>pixel5</th>\n",
       "      <th>pixel6</th>\n",
       "      <th>pixel7</th>\n",
       "      <th>pixel8</th>\n",
       "      <th>...</th>\n",
       "      <th>pixel774</th>\n",
       "      <th>pixel775</th>\n",
       "      <th>pixel776</th>\n",
       "      <th>pixel777</th>\n",
       "      <th>pixel778</th>\n",
       "      <th>pixel779</th>\n",
       "      <th>pixel780</th>\n",
       "      <th>pixel781</th>\n",
       "      <th>pixel782</th>\n",
       "      <th>pixel783</th>\n",
       "    </tr>\n",
       "  </thead>\n",
       "  <tbody>\n",
       "    <tr>\n",
       "      <th>0</th>\n",
       "      <td>0</td>\n",
       "      <td>0</td>\n",
       "      <td>0</td>\n",
       "      <td>0</td>\n",
       "      <td>0</td>\n",
       "      <td>0</td>\n",
       "      <td>0</td>\n",
       "      <td>0</td>\n",
       "      <td>0</td>\n",
       "      <td>0</td>\n",
       "      <td>...</td>\n",
       "      <td>0</td>\n",
       "      <td>0</td>\n",
       "      <td>0</td>\n",
       "      <td>0</td>\n",
       "      <td>0</td>\n",
       "      <td>0</td>\n",
       "      <td>0</td>\n",
       "      <td>0</td>\n",
       "      <td>0</td>\n",
       "      <td>0</td>\n",
       "    </tr>\n",
       "    <tr>\n",
       "      <th>1</th>\n",
       "      <td>1</td>\n",
       "      <td>0</td>\n",
       "      <td>0</td>\n",
       "      <td>0</td>\n",
       "      <td>0</td>\n",
       "      <td>0</td>\n",
       "      <td>0</td>\n",
       "      <td>0</td>\n",
       "      <td>0</td>\n",
       "      <td>0</td>\n",
       "      <td>...</td>\n",
       "      <td>0</td>\n",
       "      <td>0</td>\n",
       "      <td>0</td>\n",
       "      <td>0</td>\n",
       "      <td>0</td>\n",
       "      <td>0</td>\n",
       "      <td>0</td>\n",
       "      <td>0</td>\n",
       "      <td>0</td>\n",
       "      <td>0</td>\n",
       "    </tr>\n",
       "    <tr>\n",
       "      <th>2</th>\n",
       "      <td>2</td>\n",
       "      <td>0</td>\n",
       "      <td>0</td>\n",
       "      <td>0</td>\n",
       "      <td>0</td>\n",
       "      <td>0</td>\n",
       "      <td>0</td>\n",
       "      <td>0</td>\n",
       "      <td>0</td>\n",
       "      <td>0</td>\n",
       "      <td>...</td>\n",
       "      <td>0</td>\n",
       "      <td>0</td>\n",
       "      <td>0</td>\n",
       "      <td>0</td>\n",
       "      <td>0</td>\n",
       "      <td>0</td>\n",
       "      <td>0</td>\n",
       "      <td>0</td>\n",
       "      <td>0</td>\n",
       "      <td>0</td>\n",
       "    </tr>\n",
       "    <tr>\n",
       "      <th>3</th>\n",
       "      <td>3</td>\n",
       "      <td>0</td>\n",
       "      <td>0</td>\n",
       "      <td>0</td>\n",
       "      <td>0</td>\n",
       "      <td>0</td>\n",
       "      <td>0</td>\n",
       "      <td>0</td>\n",
       "      <td>0</td>\n",
       "      <td>0</td>\n",
       "      <td>...</td>\n",
       "      <td>0</td>\n",
       "      <td>0</td>\n",
       "      <td>0</td>\n",
       "      <td>0</td>\n",
       "      <td>0</td>\n",
       "      <td>0</td>\n",
       "      <td>0</td>\n",
       "      <td>0</td>\n",
       "      <td>0</td>\n",
       "      <td>0</td>\n",
       "    </tr>\n",
       "    <tr>\n",
       "      <th>4</th>\n",
       "      <td>4</td>\n",
       "      <td>0</td>\n",
       "      <td>0</td>\n",
       "      <td>0</td>\n",
       "      <td>0</td>\n",
       "      <td>0</td>\n",
       "      <td>0</td>\n",
       "      <td>0</td>\n",
       "      <td>0</td>\n",
       "      <td>0</td>\n",
       "      <td>...</td>\n",
       "      <td>0</td>\n",
       "      <td>0</td>\n",
       "      <td>0</td>\n",
       "      <td>0</td>\n",
       "      <td>0</td>\n",
       "      <td>0</td>\n",
       "      <td>0</td>\n",
       "      <td>0</td>\n",
       "      <td>0</td>\n",
       "      <td>0</td>\n",
       "    </tr>\n",
       "  </tbody>\n",
       "</table>\n",
       "<p>5 rows × 785 columns</p>\n",
       "</div>"
      ],
      "text/plain": [
       "   label  pixel0  pixel1  pixel2  pixel3  pixel4  pixel5  pixel6  pixel7  \\\n",
       "0      0       0       0       0       0       0       0       0       0   \n",
       "1      1       0       0       0       0       0       0       0       0   \n",
       "2      2       0       0       0       0       0       0       0       0   \n",
       "3      3       0       0       0       0       0       0       0       0   \n",
       "4      4       0       0       0       0       0       0       0       0   \n",
       "\n",
       "   pixel8  ...  pixel774  pixel775  pixel776  pixel777  pixel778  pixel779  \\\n",
       "0       0  ...         0         0         0         0         0         0   \n",
       "1       0  ...         0         0         0         0         0         0   \n",
       "2       0  ...         0         0         0         0         0         0   \n",
       "3       0  ...         0         0         0         0         0         0   \n",
       "4       0  ...         0         0         0         0         0         0   \n",
       "\n",
       "   pixel780  pixel781  pixel782  pixel783  \n",
       "0         0         0         0         0  \n",
       "1         0         0         0         0  \n",
       "2         0         0         0         0  \n",
       "3         0         0         0         0  \n",
       "4         0         0         0         0  \n",
       "\n",
       "[5 rows x 785 columns]"
      ]
     },
     "execution_count": 18,
     "metadata": {},
     "output_type": "execute_result"
    }
   ],
   "source": [
    "train.head()"
   ]
  },
  {
   "cell_type": "markdown",
   "metadata": {
    "id": "ujwxD15wBxgz"
   },
   "source": [
    "As you can see, the first column of the dataframe is the label, and the rest of the columns are the pixels. Let's put the dataset in numpy arrays. Also, we must normalize the pixel values to [0,1] range to help the convergence of our MLP model."
   ]
  },
  {
   "cell_type": "code",
   "execution_count": 19,
   "metadata": {
    "id": "daC1eP48BoRa"
   },
   "outputs": [
    {
     "data": {
      "text/plain": [
       "<matplotlib.image.AxesImage at 0x19b5c23d2e0>"
      ]
     },
     "execution_count": 19,
     "metadata": {},
     "output_type": "execute_result"
    },
    {
     "data": {
      "image/png": "[encoded data removed]",
      "text/plain": [
       "<Figure size 640x480 with 1 Axes>"
      ]
     },
     "metadata": {},
     "output_type": "display_data"
    }
   ],
   "source": [
    "x = train.values[:, 1:]/255.\n",
    "y = train.values[:, 0]\n",
    "plt.imshow(x[10000].reshape(28, 28))"
   ]
  },
  {
   "cell_type": "markdown",
   "metadata": {
    "id": "S3VCyPCVBrzX"
   },
   "source": [
    "As we are doing a multiclass classification, the labels must be in one-hot encoded format."
   ]
  },
  {
   "cell_type": "code",
   "execution_count": 20,
   "metadata": {
    "id": "MHRwImBnBo7q"
   },
   "outputs": [],
   "source": [
    "def one_hot_encoder(y):\n",
    "\n",
    "  y = y.reshape(-1)\n",
    "  num_samples = y.shape[0]\n",
    "  max_label = np.max(y)\n",
    "  one_hot = np.zeros((num_samples, max_label+1))\n",
    "  one_hot[np.arange(num_samples),y] = 1\n",
    "  \n",
    "  return one_hot"
   ]
  },
  {
   "cell_type": "code",
   "execution_count": 21,
   "metadata": {
    "id": "rs1VhX-9Bz_j"
   },
   "outputs": [
    {
     "data": {
      "text/plain": [
       "array([[1., 0., 0., ..., 0., 0., 0.],\n",
       "       [0., 1., 0., ..., 0., 0., 0.],\n",
       "       [0., 0., 1., ..., 0., 0., 0.],\n",
       "       ...,\n",
       "       [0., 0., 0., ..., 1., 0., 0.],\n",
       "       [0., 0., 0., ..., 0., 1., 0.],\n",
       "       [0., 0., 0., ..., 0., 0., 1.]])"
      ]
     },
     "execution_count": 21,
     "metadata": {},
     "output_type": "execute_result"
    }
   ],
   "source": [
    "y = one_hot_encoder(y)\n",
    "y"
   ]
  },
  {
   "cell_type": "markdown",
   "metadata": {
    "id": "PjsZfiHzCI-6"
   },
   "source": [
    "This function transforms the dataset into multiple batches. We need this function because we'll be doing mini-batch gradient descent."
   ]
  },
  {
   "cell_type": "code",
   "execution_count": 22,
   "metadata": {
    "id": "UI4P_TOsB1b7"
   },
   "outputs": [],
   "source": [
    "import math\n",
    "\n",
    "def get_mini_batches(x, y, batch_size, shuffle=True):\n",
    "\n",
    "  idx = list(range(len(x)))\n",
    "  np.random.shuffle(idx)\n",
    "  steps = math.ceil(len(x)/batch_size)\n",
    "  x, y = x[idx, :], y[idx, :]\n",
    "  for i in range(steps):\n",
    "    yield (x[i*batch_size: (i+1)*batch_size], y[i*batch_size: (i+1)*batch_size])"
   ]
  },
  {
   "cell_type": "code",
   "execution_count": 23,
   "metadata": {
    "id": "zs4fT4pqCKIC"
   },
   "outputs": [],
   "source": [
    "def accuracy(y, y_hat):\n",
    "\n",
    "  return np.mean(np.argmax(y, axis=-1)==np.argmax(y_hat, axis=-1))"
   ]
  },
  {
   "cell_type": "markdown",
   "metadata": {
    "id": "kmc1f6eyCeP5"
   },
   "source": [
    "Now let's split the dataset into train and validatoin sets:"
   ]
  },
  {
   "cell_type": "code",
   "execution_count": 24,
   "metadata": {
    "id": "Loux1EZMCVWZ"
   },
   "outputs": [],
   "source": [
    "from sklearn.model_selection import train_test_split\n",
    "\n",
    "x_train, x_val, y_train, y_val = train_test_split(x, y, stratify=y)"
   ]
  },
  {
   "cell_type": "markdown",
   "metadata": {
    "id": "VIuN4x5sCcUg"
   },
   "source": [
    "Create your MLP model in the cell bellow. The choice of the number of layers, their sizes and their activation functions is up to you."
   ]
  },
  {
   "cell_type": "code",
   "execution_count": 101,
   "metadata": {
    "id": "ieuJo1o8CYA6"
   },
   "outputs": [],
   "source": [
    "mlp = MLP(x_train.shape[-1])\n",
    "\n",
    "########################################\n",
    "#     Put your implementation here     #\n",
    "########################################\n",
    "mlp.add_layer(128, relu)\n",
    "mlp.add_layer(64, relu)\n",
    "mlp.add_layer(10, linear)"
   ]
  },
  {
   "cell_type": "markdown",
   "metadata": {
    "id": "qg2uLDxHCupt"
   },
   "source": [
    "Feel free to change these hyper-parameters."
   ]
  },
  {
   "cell_type": "code",
   "execution_count": 102,
   "metadata": {
    "id": "_qRj_PzACjSR"
   },
   "outputs": [],
   "source": [
    "epochs = 10\n",
    "Batch_size = 1024\n",
    "sgd_lr = 0.1\n",
    "sgd_momentum = 0.9"
   ]
  },
  {
   "cell_type": "markdown",
   "metadata": {
    "id": "FpsH6AGpC6-O"
   },
   "source": [
    "Now let's train the network!"
   ]
  },
  {
   "cell_type": "code",
   "execution_count": 103,
   "metadata": {
    "id": "e_slXVIBC1qt"
   },
   "outputs": [
    {
     "name": "stderr",
     "output_type": "stream",
     "text": [
      "C:\\Users\\efnhm\\AppData\\Local\\Temp\\ipykernel_38584\\1874848809.py:9: TqdmDeprecationWarning: This function will be removed in tqdm==5.0.0\n",
      "Please use `tqdm.notebook.tqdm` instead of `tqdm.tqdm_notebook`\n",
      "  for xx, yy in tqdm_notebook(mini_batches, desc='epoch {}'.format(i+1)):\n"
     ]
    },
    {
     "data": {
      "application/vnd.jupyter.widget-view+json": {
       "model_id": "57cf487bbb35405abbfc97c59c9bb61a",
       "version_major": 2,
       "version_minor": 0
      },
      "text/plain": [
       "epoch 1: 0it [00:00, ?it/s]"
      ]
     },
     "metadata": {},
     "output_type": "display_data"
    },
    {
     "name": "stdout",
     "output_type": "stream",
     "text": [
      "training acc: 94.99 %\n",
      "test acc: 95.06 %\n"
     ]
    },
    {
     "data": {
      "application/vnd.jupyter.widget-view+json": {
       "model_id": "fd82568719504cb8bbff5e1463828a24",
       "version_major": 2,
       "version_minor": 0
      },
      "text/plain": [
       "epoch 2: 0it [00:00, ?it/s]"
      ]
     },
     "metadata": {},
     "output_type": "display_data"
    },
    {
     "name": "stdout",
     "output_type": "stream",
     "text": [
      "training acc: 96.76 %\n",
      "test acc: 96.41 %\n"
     ]
    },
    {
     "data": {
      "application/vnd.jupyter.widget-view+json": {
       "model_id": "b97c7636a6f74f7abcad5483059f12a4",
       "version_major": 2,
       "version_minor": 0
      },
      "text/plain": [
       "epoch 3: 0it [00:00, ?it/s]"
      ]
     },
     "metadata": {},
     "output_type": "display_data"
    },
    {
     "name": "stdout",
     "output_type": "stream",
     "text": [
      "training acc: 97.40 %\n",
      "test acc: 96.78 %\n"
     ]
    },
    {
     "data": {
      "application/vnd.jupyter.widget-view+json": {
       "model_id": "ec9f8466e66b41d69efcbbf6faf5ea8c",
       "version_major": 2,
       "version_minor": 0
      },
      "text/plain": [
       "epoch 4: 0it [00:00, ?it/s]"
      ]
     },
     "metadata": {},
     "output_type": "display_data"
    },
    {
     "name": "stdout",
     "output_type": "stream",
     "text": [
      "training acc: 97.82 %\n",
      "test acc: 97.17 %\n"
     ]
    },
    {
     "data": {
      "application/vnd.jupyter.widget-view+json": {
       "model_id": "52bd13342e784d798e615217f2cea524",
       "version_major": 2,
       "version_minor": 0
      },
      "text/plain": [
       "epoch 5: 0it [00:00, ?it/s]"
      ]
     },
     "metadata": {},
     "output_type": "display_data"
    },
    {
     "name": "stdout",
     "output_type": "stream",
     "text": [
      "training acc: 98.16 %\n",
      "test acc: 97.39 %\n"
     ]
    },
    {
     "data": {
      "application/vnd.jupyter.widget-view+json": {
       "model_id": "d0067a532f2d46b4af1ec7607ec198c6",
       "version_major": 2,
       "version_minor": 0
      },
      "text/plain": [
       "epoch 6: 0it [00:00, ?it/s]"
      ]
     },
     "metadata": {},
     "output_type": "display_data"
    },
    {
     "name": "stdout",
     "output_type": "stream",
     "text": [
      "training acc: 98.39 %\n",
      "test acc: 97.53 %\n"
     ]
    },
    {
     "data": {
      "application/vnd.jupyter.widget-view+json": {
       "model_id": "0ea6118f20924a90a3d3d8bb5fae7fa3",
       "version_major": 2,
       "version_minor": 0
      },
      "text/plain": [
       "epoch 7: 0it [00:00, ?it/s]"
      ]
     },
     "metadata": {},
     "output_type": "display_data"
    },
    {
     "name": "stdout",
     "output_type": "stream",
     "text": [
      "training acc: 98.58 %\n",
      "test acc: 97.71 %\n"
     ]
    },
    {
     "data": {
      "application/vnd.jupyter.widget-view+json": {
       "model_id": "e5f0b5ccd07943b6a5d5c16f13b70db8",
       "version_major": 2,
       "version_minor": 0
      },
      "text/plain": [
       "epoch 8: 0it [00:00, ?it/s]"
      ]
     },
     "metadata": {},
     "output_type": "display_data"
    },
    {
     "name": "stdout",
     "output_type": "stream",
     "text": [
      "training acc: 98.84 %\n",
      "test acc: 97.92 %\n"
     ]
    },
    {
     "data": {
      "application/vnd.jupyter.widget-view+json": {
       "model_id": "435f9c36743548cdb4cdf885f9ae1491",
       "version_major": 2,
       "version_minor": 0
      },
      "text/plain": [
       "epoch 9: 0it [00:00, ?it/s]"
      ]
     },
     "metadata": {},
     "output_type": "display_data"
    },
    {
     "name": "stdout",
     "output_type": "stream",
     "text": [
      "training acc: 98.89 %\n",
      "test acc: 97.81 %\n"
     ]
    },
    {
     "data": {
      "application/vnd.jupyter.widget-view+json": {
       "model_id": "c37449c9693f497680092ec7c3049ab6",
       "version_major": 2,
       "version_minor": 0
      },
      "text/plain": [
       "epoch 10: 0it [00:00, ?it/s]"
      ]
     },
     "metadata": {},
     "output_type": "display_data"
    },
    {
     "name": "stdout",
     "output_type": "stream",
     "text": [
      "training acc: 99.06 %\n",
      "test acc: 97.93 %\n"
     ]
    }
   ],
   "source": [
    "from tqdm import tqdm_notebook\n",
    "### Defining a optimizer\n",
    "optimizer = SGD(lr=sgd_lr, momentum=sgd_momentum)\n",
    "\n",
    "train_loss, val_loss, train_accs, val_accs = [], [], [], []\n",
    "\n",
    "for i in range(epochs):\n",
    "  mini_batches = get_mini_batches(x_train, y_train, Batch_size)\n",
    "  for xx, yy in tqdm_notebook(mini_batches, desc='epoch {}'.format(i+1)):\n",
    "\n",
    "    ### forward propagation\n",
    "    mlp.feed_forward(xx)\n",
    "    ### compute gradients\n",
    "    grads = mlp_gradients(mlp, softmax_categorical_cross_entropy, xx, yy)\n",
    "    ### optimization\n",
    "    mlp.parameters = optimizer.step(mlp.parameters, grads)\n",
    "    \n",
    "  y_hat = mlp.feed_forward(x_train)\n",
    "  y_hat_val = mlp.feed_forward(x_val)\n",
    "  val_loss.append(softmax_categorical_cross_entropy(y_val, y_hat_val))\n",
    "  train_loss.append(softmax_categorical_cross_entropy(y_train, y_hat))\n",
    "  train_acc = accuracy(y_train, y_hat)*100\n",
    "  val_acc = accuracy(y_val, y_hat_val)*100\n",
    "  train_accs.append(train_acc)\n",
    "  val_accs.append(val_acc)\n",
    "  print(\"training acc: {:.2f} %\".format(train_acc))\n",
    "  print(\"test acc: {:.2f} %\".format(val_acc))"
   ]
  },
  {
   "cell_type": "markdown",
   "metadata": {
    "id": "yMAZOEWXC58o"
   },
   "source": [
    "Let's visualize accuracy and loss for train and validation sets during training:"
   ]
  },
  {
   "cell_type": "code",
   "execution_count": 104,
   "metadata": {
    "id": "D-EQC-rIC2gw"
   },
   "outputs": [
    {
     "data": {
      "image/png": "[encoded data removed]",
      "text/plain": [
       "<Figure size 640x480 with 1 Axes>"
      ]
     },
     "metadata": {},
     "output_type": "display_data"
    }
   ],
   "source": [
    "plt.plot(list(range(len(train_loss))), train_loss, label='train')\n",
    "plt.plot(list(range(len(val_loss))), val_loss, label='val')\n",
    "plt.xlabel('epoch')\n",
    "plt.ylabel('loss')\n",
    "plt.legend()\n",
    "plt.show()"
   ]
  },
  {
   "cell_type": "code",
   "execution_count": 105,
   "metadata": {
    "id": "LcaqO5wzC9dg"
   },
   "outputs": [
    {
     "data": {
      "image/png": "[encoded data removed]",
      "text/plain": [
       "<Figure size 640x480 with 1 Axes>"
      ]
     },
     "metadata": {},
     "output_type": "display_data"
    }
   ],
   "source": [
    "plt.plot(list(range(len(train_accs))), train_accs, label='train')\n",
    "plt.plot(list(range(len(val_accs))), val_accs, label='val')\n",
    "plt.xlabel('epoch')\n",
    "plt.ylabel('accuracy')\n",
    "plt.legend()\n",
    "plt.show()"
   ]
  }
 ],
 "metadata": {
  "colab": {
   "collapsed_sections": [],
   "provenance": [],
   "toc_visible": true
  },
  "kernelspec": {
   "display_name": "Python 3",
   "name": "python3"
  },
  "language_info": {
   "codemirror_mode": {
    "name": "ipython",
    "version": 3
   },
   "file_extension": ".py",
   "mimetype": "text/x-python",
   "name": "python",
   "nbconvert_exporter": "python",
   "pygments_lexer": "ipython3",
   "version": "3.8.0"
  }
 },
 "nbformat": 4,
 "nbformat_minor": 0
}
