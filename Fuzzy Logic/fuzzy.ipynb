{
 "cells": [
  {
   "cell_type": "code",
   "execution_count": 1,
   "metadata": {},
   "outputs": [],
   "source": [
    "import numpy as np\n",
    "import skfuzzy as fuzz\n",
    "from skfuzzy import control as ctrl"
   ]
  },
  {
   "cell_type": "markdown",
   "metadata": {},
   "source": [
    "### Defining INPUT & OUTPUT Variables"
   ]
  },
  {
   "cell_type": "code",
   "execution_count": 4,
   "metadata": {},
   "outputs": [],
   "source": [
    "#INPUT\n",
    "temperature = ctrl.Antecedent(np.arange(15, 36, 1), 'temperature')\n",
    "comfortness = ctrl.Antecedent(np.arange(0, 101, 1), 'comfortness')\n",
    "\n",
    "#OUTPUT\n",
    "power = ctrl.Consequent(np.arange(0, 101, 1), 'power')"
   ]
  },
  {
   "cell_type": "markdown",
   "metadata": {},
   "source": [
    "### Temperature Values"
   ]
  },
  {
   "cell_type": "code",
   "execution_count": 5,
   "metadata": {},
   "outputs": [],
   "source": [
    "temperature['cold'] = fuzz.trimf(temperature.universe, [15, 15, 25])\n",
    "temperature['warm'] = fuzz.trimf(temperature.universe, [20, 25, 30])\n",
    "temperature['hot'] = fuzz.trimf(temperature.universe, [25, 35, 35])"
   ]
  },
  {
   "cell_type": "markdown",
   "metadata": {},
   "source": [
    "### Comfortness Values"
   ]
  },
  {
   "cell_type": "code",
   "execution_count": 7,
   "metadata": {},
   "outputs": [],
   "source": [
    "comfortness['low'] = fuzz.trimf(comfortness.universe, [0, 0, 50])\n",
    "comfortness['medium'] = fuzz.trimf(comfortness.universe, [25, 50, 75])\n",
    "comfortness['high'] = fuzz.trimf(comfortness.universe, [50, 100, 100])"
   ]
  },
  {
   "cell_type": "markdown",
   "metadata": {},
   "source": [
    "### Power Values"
   ]
  },
  {
   "cell_type": "code",
   "execution_count": 6,
   "metadata": {},
   "outputs": [],
   "source": [
    "power['low'] = fuzz.trimf(power.universe, [0, 0, 50])\n",
    "power['medium'] = fuzz.trimf(power.universe, [25, 50, 75])\n",
    "power['high'] = fuzz.trimf(power.universe, [50, 100, 100])"
   ]
  },
  {
   "cell_type": "markdown",
   "metadata": {},
   "source": [
    "### Defining Rules"
   ]
  },
  {
   "cell_type": "code",
   "execution_count": 8,
   "metadata": {},
   "outputs": [],
   "source": [
    "rule1 = ctrl.Rule(temperature['cold'] & comfortness['low'], power['low'])\n",
    "rule2 = ctrl.Rule(temperature['warm'] & comfortness['medium'], power['medium'])\n",
    "rule3 = ctrl.Rule(temperature['hot'] & comfortness['high'], power['high'])"
   ]
  },
  {
   "cell_type": "markdown",
   "metadata": {},
   "source": [
    "### Control System"
   ]
  },
  {
   "cell_type": "code",
   "execution_count": 9,
   "metadata": {},
   "outputs": [],
   "source": [
    "control = ctrl.ControlSystem([rule1, rule2, rule3])\n",
    "control_system = ctrl.ControlSystemSimulation(control)"
   ]
  },
  {
   "cell_type": "markdown",
   "metadata": {},
   "source": [
    "### Testing System"
   ]
  },
  {
   "cell_type": "code",
   "execution_count": 11,
   "metadata": {},
   "outputs": [
    {
     "name": "stdout",
     "output_type": "stream",
     "text": [
      "Output Power: 80.56%\n"
     ]
    }
   ],
   "source": [
    "control_system.input['temperature'] = 30\n",
    "control_system.input['comfortness'] = 90\n",
    "\n",
    "control_system.compute()\n",
    "\n",
    "print(f\"Output Power: {control_system.output['power']:.2f}%\")"
   ]
  }
 ],
 "metadata": {
  "kernelspec": {
   "display_name": "Python 3",
   "language": "python",
   "name": "python3"
  },
  "language_info": {
   "codemirror_mode": {
    "name": "ipython",
    "version": 3
   },
   "file_extension": ".py",
   "mimetype": "text/x-python",
   "name": "python",
   "nbconvert_exporter": "python",
   "pygments_lexer": "ipython3",
   "version": "3.8.0"
  }
 },
 "nbformat": 4,
 "nbformat_minor": 2
}
